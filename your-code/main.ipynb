{
 "cells": [
  {
   "cell_type": "markdown",
   "metadata": {},
   "source": [
    "# Subsetting and Descriptive Stats\n",
    "\n",
    "## Before your start:\n",
    "   - Remember that you just need to do one of the challenges.\n",
    "   - Keep in mind that you need to use some of the functions you learned in the previous lessons.\n",
    "   - All datasets are provided in IronHack's database.\n",
    "   - Elaborate your codes and outputs as much as you can.\n",
    "   - Try your best to answer the questions and complete the tasks and most importantly: enjoy the process!\n",
    "   \n",
    "#### Import all the necessary libraries here:"
   ]
  },
  {
   "cell_type": "code",
   "execution_count": 253,
   "metadata": {},
   "outputs": [],
   "source": [
    "# import libraries here\n",
    "import pandas as pd \n"
   ]
  },
  {
   "cell_type": "markdown",
   "metadata": {},
   "source": [
    "# [ONLY ONE MANDATORY] Challenge 1\n",
    "#### In this challenge we will use the `Temp_States`  dataset. \n",
    "\n",
    "#### First import it into a dataframe called `temp`."
   ]
  },
  {
   "cell_type": "code",
   "execution_count": 254,
   "metadata": {},
   "outputs": [],
   "source": [
    "# your code here"
   ]
  },
  {
   "cell_type": "markdown",
   "metadata": {},
   "source": [
    "#### Print `temp`."
   ]
  },
  {
   "cell_type": "code",
   "execution_count": 255,
   "metadata": {},
   "outputs": [],
   "source": [
    "# your code here"
   ]
  },
  {
   "cell_type": "markdown",
   "metadata": {},
   "source": [
    "#### Explore the data types of the *temp* dataframe. What types of data do we have? Comment your result."
   ]
  },
  {
   "cell_type": "code",
   "execution_count": 256,
   "metadata": {},
   "outputs": [],
   "source": [
    "# your code here"
   ]
  },
  {
   "cell_type": "code",
   "execution_count": 257,
   "metadata": {},
   "outputs": [
    {
     "output_type": "execute_result",
     "data": {
      "text/plain": "'\\nyour comments here\\n'"
     },
     "metadata": {},
     "execution_count": 257
    }
   ],
   "source": [
    "\"\"\"\n",
    "your comments here\n",
    "\"\"\""
   ]
  },
  {
   "cell_type": "markdown",
   "metadata": {},
   "source": [
    "#### Select the rows where state is New York."
   ]
  },
  {
   "cell_type": "code",
   "execution_count": 258,
   "metadata": {},
   "outputs": [],
   "source": [
    "# your code here"
   ]
  },
  {
   "cell_type": "markdown",
   "metadata": {},
   "source": [
    "#### What is the average temperature of cities in New York?"
   ]
  },
  {
   "cell_type": "code",
   "execution_count": 259,
   "metadata": {},
   "outputs": [],
   "source": [
    "# your code here"
   ]
  },
  {
   "cell_type": "markdown",
   "metadata": {},
   "source": [
    "#### Which states and cities have a temperature above 15 degrees Celsius?"
   ]
  },
  {
   "cell_type": "code",
   "execution_count": 260,
   "metadata": {},
   "outputs": [],
   "source": [
    "# your code here"
   ]
  },
  {
   "cell_type": "markdown",
   "metadata": {},
   "source": [
    "#### Now, return only the cities that have a temperature above 15 degrees Celsius."
   ]
  },
  {
   "cell_type": "code",
   "execution_count": 261,
   "metadata": {},
   "outputs": [],
   "source": [
    "# your code here"
   ]
  },
  {
   "cell_type": "markdown",
   "metadata": {},
   "source": [
    "#### Which cities have a temperature above 15 degrees Celcius and below 20 degrees Celsius?\n",
    "\n",
    "**Hint**: First, write the condition. Then, select the rows."
   ]
  },
  {
   "cell_type": "code",
   "execution_count": 262,
   "metadata": {},
   "outputs": [],
   "source": [
    "# your code here"
   ]
  },
  {
   "cell_type": "markdown",
   "metadata": {},
   "source": [
    "#### Find the mean and standard deviation of the temperature of each state."
   ]
  },
  {
   "cell_type": "code",
   "execution_count": 263,
   "metadata": {},
   "outputs": [],
   "source": [
    "# your code here"
   ]
  },
  {
   "cell_type": "markdown",
   "metadata": {
    "collapsed": true
   },
   "source": [
    "# [ONLY ONE MANDATORY]  Challenge 2"
   ]
  },
  {
   "cell_type": "markdown",
   "metadata": {},
   "source": [
    "#### Load the `employees` dataset into a dataframe. Call the dataframe `employees`."
   ]
  },
  {
   "cell_type": "code",
   "execution_count": 264,
   "metadata": {},
   "outputs": [],
   "source": [
    "# your code here"
   ]
  },
  {
   "cell_type": "markdown",
   "metadata": {},
   "source": [
    "#### Explore the data types of the `employees` dataframe. Comment your results."
   ]
  },
  {
   "cell_type": "code",
   "execution_count": 265,
   "metadata": {},
   "outputs": [],
   "source": [
    "# your code here"
   ]
  },
  {
   "cell_type": "code",
   "execution_count": 266,
   "metadata": {},
   "outputs": [
    {
     "output_type": "execute_result",
     "data": {
      "text/plain": "'\\nyour comments here\\n'"
     },
     "metadata": {},
     "execution_count": 266
    }
   ],
   "source": [
    "\"\"\"\n",
    "your comments here\n",
    "\"\"\""
   ]
  },
  {
   "cell_type": "markdown",
   "metadata": {},
   "source": [
    "#### What's the average salary in this company?"
   ]
  },
  {
   "cell_type": "code",
   "execution_count": 267,
   "metadata": {},
   "outputs": [],
   "source": [
    "# your code here"
   ]
  },
  {
   "cell_type": "markdown",
   "metadata": {},
   "source": [
    "#### What's the highest salary?"
   ]
  },
  {
   "cell_type": "code",
   "execution_count": 268,
   "metadata": {},
   "outputs": [],
   "source": [
    "# your code here"
   ]
  },
  {
   "cell_type": "markdown",
   "metadata": {},
   "source": [
    "#### What's the lowest salary?"
   ]
  },
  {
   "cell_type": "code",
   "execution_count": 269,
   "metadata": {},
   "outputs": [],
   "source": [
    "# your code here"
   ]
  },
  {
   "cell_type": "markdown",
   "metadata": {},
   "source": [
    "#### Who are the employees with the lowest salary?"
   ]
  },
  {
   "cell_type": "code",
   "execution_count": 270,
   "metadata": {},
   "outputs": [],
   "source": [
    "# your code here"
   ]
  },
  {
   "cell_type": "markdown",
   "metadata": {},
   "source": [
    "#### Find all the information about an employee called David."
   ]
  },
  {
   "cell_type": "code",
   "execution_count": 271,
   "metadata": {},
   "outputs": [],
   "source": [
    "# your code here"
   ]
  },
  {
   "cell_type": "markdown",
   "metadata": {},
   "source": [
    "#### Could you return only David's salary?"
   ]
  },
  {
   "cell_type": "code",
   "execution_count": 272,
   "metadata": {},
   "outputs": [],
   "source": [
    "# your code here"
   ]
  },
  {
   "cell_type": "markdown",
   "metadata": {},
   "source": [
    "#### Print all the rows where job title is associate."
   ]
  },
  {
   "cell_type": "code",
   "execution_count": 273,
   "metadata": {},
   "outputs": [],
   "source": [
    "# your code here"
   ]
  },
  {
   "cell_type": "markdown",
   "metadata": {},
   "source": [
    "#### Print the first 3 rows of your dataframe.\n",
    "**Tip**: There are 2 ways to do it. Do it both ways."
   ]
  },
  {
   "cell_type": "code",
   "execution_count": 274,
   "metadata": {},
   "outputs": [],
   "source": [
    "# Method 1\n",
    "# your code here"
   ]
  },
  {
   "cell_type": "code",
   "execution_count": 275,
   "metadata": {},
   "outputs": [],
   "source": [
    "# Method 2\n",
    "# your code here"
   ]
  },
  {
   "cell_type": "markdown",
   "metadata": {},
   "source": [
    "#### Find the employees whose title is associate and whose salary is above 55."
   ]
  },
  {
   "cell_type": "code",
   "execution_count": 276,
   "metadata": {},
   "outputs": [],
   "source": [
    "# your code here"
   ]
  },
  {
   "cell_type": "markdown",
   "metadata": {},
   "source": [
    "#### Group the employees by number of years of employment. What are the average salaries in each group?"
   ]
  },
  {
   "cell_type": "code",
   "execution_count": 277,
   "metadata": {},
   "outputs": [],
   "source": [
    "# your code here"
   ]
  },
  {
   "cell_type": "markdown",
   "metadata": {},
   "source": [
    "####  What is the average salary per title?"
   ]
  },
  {
   "cell_type": "code",
   "execution_count": 278,
   "metadata": {},
   "outputs": [],
   "source": [
    "# your code here"
   ]
  },
  {
   "cell_type": "markdown",
   "metadata": {},
   "source": [
    "####  Find the salary quartiles.\n"
   ]
  },
  {
   "cell_type": "code",
   "execution_count": 279,
   "metadata": {},
   "outputs": [],
   "source": [
    "# your code here"
   ]
  },
  {
   "cell_type": "markdown",
   "metadata": {},
   "source": [
    "#### Is the mean salary different per gender?"
   ]
  },
  {
   "cell_type": "code",
   "execution_count": 280,
   "metadata": {},
   "outputs": [],
   "source": [
    "# your code here"
   ]
  },
  {
   "cell_type": "markdown",
   "metadata": {},
   "source": [
    "#### Find the minimum, mean and maximum of all numeric columns for each company department.\n",
    "\n"
   ]
  },
  {
   "cell_type": "code",
   "execution_count": 281,
   "metadata": {},
   "outputs": [],
   "source": [
    "# your code here"
   ]
  },
  {
   "cell_type": "markdown",
   "metadata": {},
   "source": [
    "#### Bonus Question:  for each department, compute the difference between the maximum and the minimum salary.\n",
    "**Hint**: try using `agg` or `apply` combined with `lambda` functions."
   ]
  },
  {
   "cell_type": "code",
   "execution_count": 282,
   "metadata": {},
   "outputs": [],
   "source": [
    "# your code here"
   ]
  },
  {
   "cell_type": "markdown",
   "metadata": {
    "collapsed": true
   },
   "source": [
    "# [ONLY ONE MANDATORY] Challenge 3\n",
    "#### Open the `Orders` dataset. Name your dataset `orders`."
   ]
  },
  {
   "cell_type": "code",
   "execution_count": 283,
   "metadata": {},
   "outputs": [
    {
     "output_type": "execute_result",
     "data": {
      "text/plain": "        Unnamed: 0  InvoiceNo StockCode  year  month  day  hour  \\\n0                0     536365    85123A  2010     12    3     8   \n1                1     536365     71053  2010     12    3     8   \n2                2     536365    84406B  2010     12    3     8   \n3                3     536365    84029G  2010     12    3     8   \n4                4     536365    84029E  2010     12    3     8   \n...            ...        ...       ...   ...    ...  ...   ...   \n397919      541904     581587     22613  2011     12    5    12   \n397920      541905     581587     22899  2011     12    5    12   \n397921      541906     581587     23254  2011     12    5    12   \n397922      541907     581587     23255  2011     12    5    12   \n397923      541908     581587     22138  2011     12    5    12   \n\n                                Description  Quantity          InvoiceDate  \\\n0        white hanging heart t-light holder         6  2010-12-01 08:26:00   \n1                       white metal lantern         6  2010-12-01 08:26:00   \n2            cream cupid hearts coat hanger         8  2010-12-01 08:26:00   \n3       knitted union flag hot water bottle         6  2010-12-01 08:26:00   \n4            red woolly hottie white heart.         6  2010-12-01 08:26:00   \n...                                     ...       ...                  ...   \n397919          pack of 20 spaceboy napkins        12  2011-12-09 12:50:00   \n397920         children's apron dolly girl          6  2011-12-09 12:50:00   \n397921        childrens cutlery dolly girl          4  2011-12-09 12:50:00   \n397922      childrens cutlery circus parade         4  2011-12-09 12:50:00   \n397923        baking set 9 piece retrospot          3  2011-12-09 12:50:00   \n\n        UnitPrice  CustomerID         Country  amount_spent  \n0            2.55       17850  United Kingdom         15.30  \n1            3.39       17850  United Kingdom         20.34  \n2            2.75       17850  United Kingdom         22.00  \n3            3.39       17850  United Kingdom         20.34  \n4            3.39       17850  United Kingdom         20.34  \n...           ...         ...             ...           ...  \n397919       0.85       12680          France         10.20  \n397920       2.10       12680          France         12.60  \n397921       4.15       12680          France         16.60  \n397922       4.15       12680          France         16.60  \n397923       4.95       12680          France         14.85  \n\n[397924 rows x 14 columns]",
      "text/html": "<div>\n<style scoped>\n    .dataframe tbody tr th:only-of-type {\n        vertical-align: middle;\n    }\n\n    .dataframe tbody tr th {\n        vertical-align: top;\n    }\n\n    .dataframe thead th {\n        text-align: right;\n    }\n</style>\n<table border=\"1\" class=\"dataframe\">\n  <thead>\n    <tr style=\"text-align: right;\">\n      <th></th>\n      <th>Unnamed: 0</th>\n      <th>InvoiceNo</th>\n      <th>StockCode</th>\n      <th>year</th>\n      <th>month</th>\n      <th>day</th>\n      <th>hour</th>\n      <th>Description</th>\n      <th>Quantity</th>\n      <th>InvoiceDate</th>\n      <th>UnitPrice</th>\n      <th>CustomerID</th>\n      <th>Country</th>\n      <th>amount_spent</th>\n    </tr>\n  </thead>\n  <tbody>\n    <tr>\n      <th>0</th>\n      <td>0</td>\n      <td>536365</td>\n      <td>85123A</td>\n      <td>2010</td>\n      <td>12</td>\n      <td>3</td>\n      <td>8</td>\n      <td>white hanging heart t-light holder</td>\n      <td>6</td>\n      <td>2010-12-01 08:26:00</td>\n      <td>2.55</td>\n      <td>17850</td>\n      <td>United Kingdom</td>\n      <td>15.30</td>\n    </tr>\n    <tr>\n      <th>1</th>\n      <td>1</td>\n      <td>536365</td>\n      <td>71053</td>\n      <td>2010</td>\n      <td>12</td>\n      <td>3</td>\n      <td>8</td>\n      <td>white metal lantern</td>\n      <td>6</td>\n      <td>2010-12-01 08:26:00</td>\n      <td>3.39</td>\n      <td>17850</td>\n      <td>United Kingdom</td>\n      <td>20.34</td>\n    </tr>\n    <tr>\n      <th>2</th>\n      <td>2</td>\n      <td>536365</td>\n      <td>84406B</td>\n      <td>2010</td>\n      <td>12</td>\n      <td>3</td>\n      <td>8</td>\n      <td>cream cupid hearts coat hanger</td>\n      <td>8</td>\n      <td>2010-12-01 08:26:00</td>\n      <td>2.75</td>\n      <td>17850</td>\n      <td>United Kingdom</td>\n      <td>22.00</td>\n    </tr>\n    <tr>\n      <th>3</th>\n      <td>3</td>\n      <td>536365</td>\n      <td>84029G</td>\n      <td>2010</td>\n      <td>12</td>\n      <td>3</td>\n      <td>8</td>\n      <td>knitted union flag hot water bottle</td>\n      <td>6</td>\n      <td>2010-12-01 08:26:00</td>\n      <td>3.39</td>\n      <td>17850</td>\n      <td>United Kingdom</td>\n      <td>20.34</td>\n    </tr>\n    <tr>\n      <th>4</th>\n      <td>4</td>\n      <td>536365</td>\n      <td>84029E</td>\n      <td>2010</td>\n      <td>12</td>\n      <td>3</td>\n      <td>8</td>\n      <td>red woolly hottie white heart.</td>\n      <td>6</td>\n      <td>2010-12-01 08:26:00</td>\n      <td>3.39</td>\n      <td>17850</td>\n      <td>United Kingdom</td>\n      <td>20.34</td>\n    </tr>\n    <tr>\n      <th>...</th>\n      <td>...</td>\n      <td>...</td>\n      <td>...</td>\n      <td>...</td>\n      <td>...</td>\n      <td>...</td>\n      <td>...</td>\n      <td>...</td>\n      <td>...</td>\n      <td>...</td>\n      <td>...</td>\n      <td>...</td>\n      <td>...</td>\n      <td>...</td>\n    </tr>\n    <tr>\n      <th>397919</th>\n      <td>541904</td>\n      <td>581587</td>\n      <td>22613</td>\n      <td>2011</td>\n      <td>12</td>\n      <td>5</td>\n      <td>12</td>\n      <td>pack of 20 spaceboy napkins</td>\n      <td>12</td>\n      <td>2011-12-09 12:50:00</td>\n      <td>0.85</td>\n      <td>12680</td>\n      <td>France</td>\n      <td>10.20</td>\n    </tr>\n    <tr>\n      <th>397920</th>\n      <td>541905</td>\n      <td>581587</td>\n      <td>22899</td>\n      <td>2011</td>\n      <td>12</td>\n      <td>5</td>\n      <td>12</td>\n      <td>children's apron dolly girl</td>\n      <td>6</td>\n      <td>2011-12-09 12:50:00</td>\n      <td>2.10</td>\n      <td>12680</td>\n      <td>France</td>\n      <td>12.60</td>\n    </tr>\n    <tr>\n      <th>397921</th>\n      <td>541906</td>\n      <td>581587</td>\n      <td>23254</td>\n      <td>2011</td>\n      <td>12</td>\n      <td>5</td>\n      <td>12</td>\n      <td>childrens cutlery dolly girl</td>\n      <td>4</td>\n      <td>2011-12-09 12:50:00</td>\n      <td>4.15</td>\n      <td>12680</td>\n      <td>France</td>\n      <td>16.60</td>\n    </tr>\n    <tr>\n      <th>397922</th>\n      <td>541907</td>\n      <td>581587</td>\n      <td>23255</td>\n      <td>2011</td>\n      <td>12</td>\n      <td>5</td>\n      <td>12</td>\n      <td>childrens cutlery circus parade</td>\n      <td>4</td>\n      <td>2011-12-09 12:50:00</td>\n      <td>4.15</td>\n      <td>12680</td>\n      <td>France</td>\n      <td>16.60</td>\n    </tr>\n    <tr>\n      <th>397923</th>\n      <td>541908</td>\n      <td>581587</td>\n      <td>22138</td>\n      <td>2011</td>\n      <td>12</td>\n      <td>5</td>\n      <td>12</td>\n      <td>baking set 9 piece retrospot</td>\n      <td>3</td>\n      <td>2011-12-09 12:50:00</td>\n      <td>4.95</td>\n      <td>12680</td>\n      <td>France</td>\n      <td>14.85</td>\n    </tr>\n  </tbody>\n</table>\n<p>397924 rows × 14 columns</p>\n</div>"
     },
     "metadata": {},
     "execution_count": 283
    }
   ],
   "source": [
    "# your code here\n",
    "orders = pd.read_csv('Orders.zip')\n",
    "orders"
   ]
  },
  {
   "cell_type": "markdown",
   "metadata": {},
   "source": [
    "#### Explore your dataset by looking at the data types and summary statistics. Comment your results."
   ]
  },
  {
   "cell_type": "code",
   "execution_count": 284,
   "metadata": {
    "tags": []
   },
   "outputs": [
    {
     "output_type": "stream",
     "name": "stdout",
     "text": "<class 'pandas.core.frame.DataFrame'>\nRangeIndex: 397924 entries, 0 to 397923\nData columns (total 14 columns):\n #   Column        Non-Null Count   Dtype  \n---  ------        --------------   -----  \n 0   Unnamed: 0    397924 non-null  int64  \n 1   InvoiceNo     397924 non-null  int64  \n 2   StockCode     397924 non-null  object \n 3   year          397924 non-null  int64  \n 4   month         397924 non-null  int64  \n 5   day           397924 non-null  int64  \n 6   hour          397924 non-null  int64  \n 7   Description   397924 non-null  object \n 8   Quantity      397924 non-null  int64  \n 9   InvoiceDate   397924 non-null  object \n 10  UnitPrice     397924 non-null  float64\n 11  CustomerID    397924 non-null  int64  \n 12  Country       397924 non-null  object \n 13  amount_spent  397924 non-null  float64\ndtypes: float64(2), int64(8), object(4)\nmemory usage: 36.4+ MB\n"
    }
   ],
   "source": [
    "orders.info()"
   ]
  },
  {
   "cell_type": "code",
   "execution_count": 285,
   "metadata": {},
   "outputs": [
    {
     "output_type": "execute_result",
     "data": {
      "text/plain": "          Unnamed: 0      InvoiceNo           year          month  \\\ncount  397924.000000  397924.000000  397924.000000  397924.000000   \nmean   278465.221859  560617.126645    2010.934259       7.612537   \nstd    152771.368303   13106.167695       0.247829       3.416527   \nmin         0.000000  536365.000000    2010.000000       1.000000   \n25%    148333.750000  549234.000000    2011.000000       5.000000   \n50%    284907.500000  561893.000000    2011.000000       8.000000   \n75%    410079.250000  572090.000000    2011.000000      11.000000   \nmax    541908.000000  581587.000000    2011.000000      12.000000   \n\n                 day           hour       Quantity      UnitPrice  \\\ncount  397924.000000  397924.000000  397924.000000  397924.000000   \nmean        3.614555      12.728247      13.021823       3.116174   \nstd         1.928274       2.273535     180.420210      22.096788   \nmin         1.000000       6.000000       1.000000       0.000000   \n25%         2.000000      11.000000       2.000000       1.250000   \n50%         3.000000      13.000000       6.000000       1.950000   \n75%         5.000000      14.000000      12.000000       3.750000   \nmax         7.000000      20.000000   80995.000000    8142.750000   \n\n          CustomerID   amount_spent  \ncount  397924.000000  397924.000000  \nmean    15294.315171      22.394749  \nstd      1713.169877     309.055588  \nmin     12346.000000       0.000000  \n25%     13969.000000       4.680000  \n50%     15159.000000      11.800000  \n75%     16795.000000      19.800000  \nmax     18287.000000  168469.600000  ",
      "text/html": "<div>\n<style scoped>\n    .dataframe tbody tr th:only-of-type {\n        vertical-align: middle;\n    }\n\n    .dataframe tbody tr th {\n        vertical-align: top;\n    }\n\n    .dataframe thead th {\n        text-align: right;\n    }\n</style>\n<table border=\"1\" class=\"dataframe\">\n  <thead>\n    <tr style=\"text-align: right;\">\n      <th></th>\n      <th>Unnamed: 0</th>\n      <th>InvoiceNo</th>\n      <th>year</th>\n      <th>month</th>\n      <th>day</th>\n      <th>hour</th>\n      <th>Quantity</th>\n      <th>UnitPrice</th>\n      <th>CustomerID</th>\n      <th>amount_spent</th>\n    </tr>\n  </thead>\n  <tbody>\n    <tr>\n      <th>count</th>\n      <td>397924.000000</td>\n      <td>397924.000000</td>\n      <td>397924.000000</td>\n      <td>397924.000000</td>\n      <td>397924.000000</td>\n      <td>397924.000000</td>\n      <td>397924.000000</td>\n      <td>397924.000000</td>\n      <td>397924.000000</td>\n      <td>397924.000000</td>\n    </tr>\n    <tr>\n      <th>mean</th>\n      <td>278465.221859</td>\n      <td>560617.126645</td>\n      <td>2010.934259</td>\n      <td>7.612537</td>\n      <td>3.614555</td>\n      <td>12.728247</td>\n      <td>13.021823</td>\n      <td>3.116174</td>\n      <td>15294.315171</td>\n      <td>22.394749</td>\n    </tr>\n    <tr>\n      <th>std</th>\n      <td>152771.368303</td>\n      <td>13106.167695</td>\n      <td>0.247829</td>\n      <td>3.416527</td>\n      <td>1.928274</td>\n      <td>2.273535</td>\n      <td>180.420210</td>\n      <td>22.096788</td>\n      <td>1713.169877</td>\n      <td>309.055588</td>\n    </tr>\n    <tr>\n      <th>min</th>\n      <td>0.000000</td>\n      <td>536365.000000</td>\n      <td>2010.000000</td>\n      <td>1.000000</td>\n      <td>1.000000</td>\n      <td>6.000000</td>\n      <td>1.000000</td>\n      <td>0.000000</td>\n      <td>12346.000000</td>\n      <td>0.000000</td>\n    </tr>\n    <tr>\n      <th>25%</th>\n      <td>148333.750000</td>\n      <td>549234.000000</td>\n      <td>2011.000000</td>\n      <td>5.000000</td>\n      <td>2.000000</td>\n      <td>11.000000</td>\n      <td>2.000000</td>\n      <td>1.250000</td>\n      <td>13969.000000</td>\n      <td>4.680000</td>\n    </tr>\n    <tr>\n      <th>50%</th>\n      <td>284907.500000</td>\n      <td>561893.000000</td>\n      <td>2011.000000</td>\n      <td>8.000000</td>\n      <td>3.000000</td>\n      <td>13.000000</td>\n      <td>6.000000</td>\n      <td>1.950000</td>\n      <td>15159.000000</td>\n      <td>11.800000</td>\n    </tr>\n    <tr>\n      <th>75%</th>\n      <td>410079.250000</td>\n      <td>572090.000000</td>\n      <td>2011.000000</td>\n      <td>11.000000</td>\n      <td>5.000000</td>\n      <td>14.000000</td>\n      <td>12.000000</td>\n      <td>3.750000</td>\n      <td>16795.000000</td>\n      <td>19.800000</td>\n    </tr>\n    <tr>\n      <th>max</th>\n      <td>541908.000000</td>\n      <td>581587.000000</td>\n      <td>2011.000000</td>\n      <td>12.000000</td>\n      <td>7.000000</td>\n      <td>20.000000</td>\n      <td>80995.000000</td>\n      <td>8142.750000</td>\n      <td>18287.000000</td>\n      <td>168469.600000</td>\n    </tr>\n  </tbody>\n</table>\n</div>"
     },
     "metadata": {},
     "execution_count": 285
    }
   ],
   "source": [
    "orders.describe()"
   ]
  },
  {
   "cell_type": "code",
   "execution_count": 286,
   "metadata": {},
   "outputs": [
    {
     "output_type": "execute_result",
     "data": {
      "text/plain": "'\\nFirst thing is the dataset seems to be very clean, no null values.\\nThere are a lot of numerical columns, but looking at the .describe() most of those are discrete (year, month, etc) and only Quantity, UnitPrice and amount_spent are measures for us to evaluate.\\n'"
     },
     "metadata": {},
     "execution_count": 286
    }
   ],
   "source": [
    "\"\"\"\n",
    "First thing is the dataset seems to be very clean, no null values.\n",
    "There are a lot of numerical columns, but looking at the .describe() most of those are discrete (year, month, etc) and only Quantity, UnitPrice and amount_spent are measures for us to evaluate.\n",
    "\"\"\""
   ]
  },
  {
   "cell_type": "markdown",
   "metadata": {},
   "source": [
    "####  What is the average purchase price?"
   ]
  },
  {
   "cell_type": "code",
   "execution_count": 287,
   "metadata": {
    "tags": []
   },
   "outputs": [
    {
     "output_type": "stream",
     "name": "stdout",
     "text": "The average purchase price is:  3.116\n"
    }
   ],
   "source": [
    "avg_price = orders['UnitPrice'].mean()\n",
    "print(f'The average purchase price is: {avg_price : .3f}')"
   ]
  },
  {
   "cell_type": "markdown",
   "metadata": {},
   "source": [
    "#### What are the highest and lowest purchase prices? "
   ]
  },
  {
   "cell_type": "code",
   "execution_count": 288,
   "metadata": {
    "tags": []
   },
   "outputs": [
    {
     "output_type": "stream",
     "name": "stdout",
     "text": "The lowest purchase price is:  0.000 and the highest price is:  8142.750\n"
    }
   ],
   "source": [
    "min_price, max_price  = orders['UnitPrice'].agg(['min', 'max'])\n",
    "print(f'The lowest purchase price is: {min_price : .3f} and the highest price is: {max_price : .3f}')"
   ]
  },
  {
   "cell_type": "markdown",
   "metadata": {},
   "source": [
    "#### Select all the customers from Spain.\n",
    "**Hint**: Remember that you are not asked to find orders from Spain but customers. A customer might have more than one order associated. "
   ]
  },
  {
   "cell_type": "code",
   "execution_count": 289,
   "metadata": {},
   "outputs": [
    {
     "output_type": "execute_result",
     "data": {
      "text/plain": "        CustomerID Country\n4250         12557   Spain\n13974        17097   Spain\n17368        12540   Spain\n23288        12551   Spain\n29804        12484   Spain\n31390        12539   Spain\n37428        12510   Spain\n41390        12421   Spain\n49687        12502   Spain\n53374        12462   Spain\n55336        12507   Spain\n70307        12541   Spain\n70657        12547   Spain\n79781        12597   Spain\n88639        12545   Spain\n103106       12596   Spain\n113099       12354   Spain\n116553       12417   Spain\n147386       12455   Spain\n162904       12450   Spain\n169315       12548   Spain\n180343       12556   Spain\n250565       12550   Spain\n254077       12546   Spain\n289129       12454   Spain\n306993       12448   Spain\n320987       12544   Spain\n336389       12538   Spain\n352636       12445   Spain\n391792       12442   Spain",
      "text/html": "<div>\n<style scoped>\n    .dataframe tbody tr th:only-of-type {\n        vertical-align: middle;\n    }\n\n    .dataframe tbody tr th {\n        vertical-align: top;\n    }\n\n    .dataframe thead th {\n        text-align: right;\n    }\n</style>\n<table border=\"1\" class=\"dataframe\">\n  <thead>\n    <tr style=\"text-align: right;\">\n      <th></th>\n      <th>CustomerID</th>\n      <th>Country</th>\n    </tr>\n  </thead>\n  <tbody>\n    <tr>\n      <th>4250</th>\n      <td>12557</td>\n      <td>Spain</td>\n    </tr>\n    <tr>\n      <th>13974</th>\n      <td>17097</td>\n      <td>Spain</td>\n    </tr>\n    <tr>\n      <th>17368</th>\n      <td>12540</td>\n      <td>Spain</td>\n    </tr>\n    <tr>\n      <th>23288</th>\n      <td>12551</td>\n      <td>Spain</td>\n    </tr>\n    <tr>\n      <th>29804</th>\n      <td>12484</td>\n      <td>Spain</td>\n    </tr>\n    <tr>\n      <th>31390</th>\n      <td>12539</td>\n      <td>Spain</td>\n    </tr>\n    <tr>\n      <th>37428</th>\n      <td>12510</td>\n      <td>Spain</td>\n    </tr>\n    <tr>\n      <th>41390</th>\n      <td>12421</td>\n      <td>Spain</td>\n    </tr>\n    <tr>\n      <th>49687</th>\n      <td>12502</td>\n      <td>Spain</td>\n    </tr>\n    <tr>\n      <th>53374</th>\n      <td>12462</td>\n      <td>Spain</td>\n    </tr>\n    <tr>\n      <th>55336</th>\n      <td>12507</td>\n      <td>Spain</td>\n    </tr>\n    <tr>\n      <th>70307</th>\n      <td>12541</td>\n      <td>Spain</td>\n    </tr>\n    <tr>\n      <th>70657</th>\n      <td>12547</td>\n      <td>Spain</td>\n    </tr>\n    <tr>\n      <th>79781</th>\n      <td>12597</td>\n      <td>Spain</td>\n    </tr>\n    <tr>\n      <th>88639</th>\n      <td>12545</td>\n      <td>Spain</td>\n    </tr>\n    <tr>\n      <th>103106</th>\n      <td>12596</td>\n      <td>Spain</td>\n    </tr>\n    <tr>\n      <th>113099</th>\n      <td>12354</td>\n      <td>Spain</td>\n    </tr>\n    <tr>\n      <th>116553</th>\n      <td>12417</td>\n      <td>Spain</td>\n    </tr>\n    <tr>\n      <th>147386</th>\n      <td>12455</td>\n      <td>Spain</td>\n    </tr>\n    <tr>\n      <th>162904</th>\n      <td>12450</td>\n      <td>Spain</td>\n    </tr>\n    <tr>\n      <th>169315</th>\n      <td>12548</td>\n      <td>Spain</td>\n    </tr>\n    <tr>\n      <th>180343</th>\n      <td>12556</td>\n      <td>Spain</td>\n    </tr>\n    <tr>\n      <th>250565</th>\n      <td>12550</td>\n      <td>Spain</td>\n    </tr>\n    <tr>\n      <th>254077</th>\n      <td>12546</td>\n      <td>Spain</td>\n    </tr>\n    <tr>\n      <th>289129</th>\n      <td>12454</td>\n      <td>Spain</td>\n    </tr>\n    <tr>\n      <th>306993</th>\n      <td>12448</td>\n      <td>Spain</td>\n    </tr>\n    <tr>\n      <th>320987</th>\n      <td>12544</td>\n      <td>Spain</td>\n    </tr>\n    <tr>\n      <th>336389</th>\n      <td>12538</td>\n      <td>Spain</td>\n    </tr>\n    <tr>\n      <th>352636</th>\n      <td>12445</td>\n      <td>Spain</td>\n    </tr>\n    <tr>\n      <th>391792</th>\n      <td>12442</td>\n      <td>Spain</td>\n    </tr>\n  </tbody>\n</table>\n</div>"
     },
     "metadata": {},
     "execution_count": 289
    }
   ],
   "source": [
    "customers = orders[['CustomerID','Country']].drop_duplicates()\n",
    "customers[customers['Country'] == 'Spain']\n"
   ]
  },
  {
   "cell_type": "markdown",
   "metadata": {},
   "source": [
    "#### How many customers do we have in Spain?"
   ]
  },
  {
   "cell_type": "code",
   "execution_count": 290,
   "metadata": {
    "tags": []
   },
   "outputs": [
    {
     "output_type": "stream",
     "name": "stdout",
     "text": "We have 30 customers in Spain\n"
    }
   ],
   "source": [
    "customers_spain = customers[customers['Country'] == 'Spain']\n",
    "\n",
    "print(f'We have {len(customers_spain)} customers in Spain')"
   ]
  },
  {
   "cell_type": "markdown",
   "metadata": {},
   "source": [
    "#### Select all the customers who have bought more than 50 items.\n",
    "**Hint**: Remember that you are not asked to find orders with more than 50 items but customers who bought more than 50 items. A customer with two orders of 30 items each should appear in the selection."
   ]
  },
  {
   "cell_type": "code",
   "execution_count": 291,
   "metadata": {},
   "outputs": [
    {
     "output_type": "execute_result",
     "data": {
      "text/plain": "            Quantity\nCustomerID          \n12347            182\n12349             73\n12352             85\n12354             58\n12356             59\n...              ...\n18260            134\n18263             61\n18272            166\n18283            756\n18287             70\n\n[1908 rows x 1 columns]",
      "text/html": "<div>\n<style scoped>\n    .dataframe tbody tr th:only-of-type {\n        vertical-align: middle;\n    }\n\n    .dataframe tbody tr th {\n        vertical-align: top;\n    }\n\n    .dataframe thead th {\n        text-align: right;\n    }\n</style>\n<table border=\"1\" class=\"dataframe\">\n  <thead>\n    <tr style=\"text-align: right;\">\n      <th></th>\n      <th>Quantity</th>\n    </tr>\n    <tr>\n      <th>CustomerID</th>\n      <th></th>\n    </tr>\n  </thead>\n  <tbody>\n    <tr>\n      <th>12347</th>\n      <td>182</td>\n    </tr>\n    <tr>\n      <th>12349</th>\n      <td>73</td>\n    </tr>\n    <tr>\n      <th>12352</th>\n      <td>85</td>\n    </tr>\n    <tr>\n      <th>12354</th>\n      <td>58</td>\n    </tr>\n    <tr>\n      <th>12356</th>\n      <td>59</td>\n    </tr>\n    <tr>\n      <th>...</th>\n      <td>...</td>\n    </tr>\n    <tr>\n      <th>18260</th>\n      <td>134</td>\n    </tr>\n    <tr>\n      <th>18263</th>\n      <td>61</td>\n    </tr>\n    <tr>\n      <th>18272</th>\n      <td>166</td>\n    </tr>\n    <tr>\n      <th>18283</th>\n      <td>756</td>\n    </tr>\n    <tr>\n      <th>18287</th>\n      <td>70</td>\n    </tr>\n  </tbody>\n</table>\n<p>1908 rows × 1 columns</p>\n</div>"
     },
     "metadata": {},
     "execution_count": 291
    }
   ],
   "source": [
    "volume_costumers = orders.pivot_table(index='CustomerID', values='Quantity', aggfunc='count')\n",
    "volume_costumers = volume_costumers[volume_costumers['Quantity'] > 50]\n",
    "volume_costumers"
   ]
  },
  {
   "cell_type": "markdown",
   "metadata": {},
   "source": [
    "#### Select orders from Spain that include more than 50 items."
   ]
  },
  {
   "cell_type": "code",
   "execution_count": 292,
   "metadata": {},
   "outputs": [
    {
     "output_type": "execute_result",
     "data": {
      "text/plain": "    CustomerID  Quantity Country\n0        12354        58   Spain\n1        12417       192   Spain\n2        12455        90   Spain\n3        12462        62   Spain\n4        12484       346   Spain\n5        12502       147   Spain\n6        12539       273   Spain\n7        12540       478   Spain\n8        12541        52   Spain\n9        12546        69   Spain\n10       12550        57   Spain\n11       12556       121   Spain\n12       12597       206   Spain\n13       17097       211   Spain",
      "text/html": "<div>\n<style scoped>\n    .dataframe tbody tr th:only-of-type {\n        vertical-align: middle;\n    }\n\n    .dataframe tbody tr th {\n        vertical-align: top;\n    }\n\n    .dataframe thead th {\n        text-align: right;\n    }\n</style>\n<table border=\"1\" class=\"dataframe\">\n  <thead>\n    <tr style=\"text-align: right;\">\n      <th></th>\n      <th>CustomerID</th>\n      <th>Quantity</th>\n      <th>Country</th>\n    </tr>\n  </thead>\n  <tbody>\n    <tr>\n      <th>0</th>\n      <td>12354</td>\n      <td>58</td>\n      <td>Spain</td>\n    </tr>\n    <tr>\n      <th>1</th>\n      <td>12417</td>\n      <td>192</td>\n      <td>Spain</td>\n    </tr>\n    <tr>\n      <th>2</th>\n      <td>12455</td>\n      <td>90</td>\n      <td>Spain</td>\n    </tr>\n    <tr>\n      <th>3</th>\n      <td>12462</td>\n      <td>62</td>\n      <td>Spain</td>\n    </tr>\n    <tr>\n      <th>4</th>\n      <td>12484</td>\n      <td>346</td>\n      <td>Spain</td>\n    </tr>\n    <tr>\n      <th>5</th>\n      <td>12502</td>\n      <td>147</td>\n      <td>Spain</td>\n    </tr>\n    <tr>\n      <th>6</th>\n      <td>12539</td>\n      <td>273</td>\n      <td>Spain</td>\n    </tr>\n    <tr>\n      <th>7</th>\n      <td>12540</td>\n      <td>478</td>\n      <td>Spain</td>\n    </tr>\n    <tr>\n      <th>8</th>\n      <td>12541</td>\n      <td>52</td>\n      <td>Spain</td>\n    </tr>\n    <tr>\n      <th>9</th>\n      <td>12546</td>\n      <td>69</td>\n      <td>Spain</td>\n    </tr>\n    <tr>\n      <th>10</th>\n      <td>12550</td>\n      <td>57</td>\n      <td>Spain</td>\n    </tr>\n    <tr>\n      <th>11</th>\n      <td>12556</td>\n      <td>121</td>\n      <td>Spain</td>\n    </tr>\n    <tr>\n      <th>12</th>\n      <td>12597</td>\n      <td>206</td>\n      <td>Spain</td>\n    </tr>\n    <tr>\n      <th>13</th>\n      <td>17097</td>\n      <td>211</td>\n      <td>Spain</td>\n    </tr>\n  </tbody>\n</table>\n</div>"
     },
     "metadata": {},
     "execution_count": 292
    }
   ],
   "source": [
    "customers_by_volume.merge(customers_spain, on='CustomerID', how='inner')\n",
    "\n"
   ]
  },
  {
   "cell_type": "markdown",
   "metadata": {},
   "source": [
    "#### Select all free orders."
   ]
  },
  {
   "cell_type": "code",
   "execution_count": 293,
   "metadata": {},
   "outputs": [
    {
     "output_type": "execute_result",
     "data": {
      "text/plain": "        Unnamed: 0  InvoiceNo StockCode  year  month  day  hour  \\\n6914          9302     537197     22841  2010     12    7    14   \n22539        33576     539263     22580  2010     12    4    14   \n25379        40089     539722     22423  2010     12    2    13   \n29080        47068     540372     22090  2011      1    4    16   \n29082        47070     540372     22553  2011      1    4    16   \n34494        56674     541109     22168  2011      1    4    15   \n53788        86789     543599    84535B  2011      2    4    13   \n85671       130188     547417     22062  2011      3    3    10   \n92875       139453     548318     22055  2011      3    3    12   \n97430       145208     548871     22162  2011      4    1    14   \n107192      157042     550188     22636  2011      4    4    18   \n128641      187613     553000     47566  2011      5    4    15   \n137127      198383     554037     22619  2011      5    5    14   \n194648      279324     561284     22167  2011      7    2    12   \n197173      282912     561669     22960  2011      7    4    17   \n199711      285657     561916         M  2011      8    1    11   \n208950      298054     562973     23157  2011      8    4    11   \n223931      314745     564651     23270  2011      8    5    14   \n223932      314746     564651     23268  2011      8    5    14   \n223933      314747     564651     22955  2011      8    5    14   \n223934      314748     564651     21786  2011      8    5    14   \n256263      358655     568158      PADS  2011      9    7    12   \n259399      361825     568384         M  2011      9    2     9   \n273926      379913     569716     22778  2011     10    4     8   \n286507      395529     571035         M  2011     10    4    12   \n307092      420404     572893     21208  2011     10    3    14   \n319882      436428     574138     23234  2011     11    4    11   \n320049      436597     574175     22065  2011     11    4    11   \n320407      436961     574252         M  2011     11    4    13   \n322279      439361     574469     22385  2011     11    5    11   \n328385      446125     574879     22625  2011     11    1    13   \n329006      446793     574920     22899  2011     11    1    16   \n329007      446794     574920     23480  2011     11    1    16   \n334242      454463     575579     22437  2011     11    4    11   \n334243      454464     575579     22089  2011     11    4    11   \n352746      479079     577129     22464  2011     11    4    19   \n353097      479546     577168         M  2011     11    5    10   \n354170      480649     577314     23407  2011     11    5    13   \n358629      485985     577696         M  2011     11    1    11   \n370473      502122     578841     84826  2011     11    5    15   \n\n                                Description  Quantity          InvoiceDate  \\\n6914           round cake tin vintage green         1  2010-12-05 14:02:00   \n22539          advent calendar gingham sack         4  2010-12-16 14:36:00   \n25379              regency cakestand 3 tier        10  2010-12-21 13:45:00   \n29080               paper bunting retrospot        24  2011-01-06 16:41:00   \n29082                plasters in tin skulls        24  2011-01-06 16:41:00   \n34494         organiser wood antique white          1  2011-01-13 15:10:00   \n53788          fairy cakes notebook a6 size        16  2011-02-10 13:08:00   \n85671   ceramic bowl with love heart design        36  2011-03-23 10:25:00   \n92875    mini cake stand  hanging strawbery         5  2011-03-30 12:45:00   \n97430           heart garland rustic padded         2  2011-04-04 14:42:00   \n107192   childs breakfast set circus parade         1  2011-04-14 18:57:00   \n128641                        party bunting         4  2011-05-12 15:21:00   \n137127            set of 6 soldier skittles        80  2011-05-20 14:13:00   \n194648           oval wall mirror diamante          1  2011-07-26 12:24:00   \n197173             jam making set with jars        11  2011-07-28 17:09:00   \n199711                               manual         1  2011-08-01 11:44:00   \n208950           set of 6 nativity magnets        240  2011-08-11 11:42:00   \n223931     set of 2 ceramic painted hearts         96  2011-08-26 14:19:00   \n223932  set of 2 ceramic christmas reindeer       192  2011-08-26 14:19:00   \n223933             36 foil star cake cases        144  2011-08-26 14:19:00   \n223934                   polkadot rain hat        144  2011-08-26 14:19:00   \n256263           pads to match all cushions         1  2011-09-25 12:22:00   \n259399                               manual         1  2011-09-27 09:46:00   \n273926                   glass cloche small         2  2011-10-06 08:17:00   \n286507                               manual         1  2011-10-13 12:50:00   \n307092          pastel colour honeycomb fan         5  2011-10-26 14:36:00   \n319882        biscuit tin vintage christmas       216  2011-11-03 11:26:00   \n320049       christmas pudding trinket pot         12  2011-11-03 11:47:00   \n320407                               manual         1  2011-11-03 13:24:00   \n322279            jumbo bag spaceboy design        12  2011-11-04 11:55:00   \n328385                   red kitchen scales         2  2011-11-07 13:22:00   \n329006         children's apron dolly girl          1  2011-11-07 16:34:00   \n329007       mini lights woodland mushrooms         1  2011-11-07 16:34:00   \n334242        set of 9 black skull balloons        20  2011-11-10 11:49:00   \n334243        paper bunting vintage paisley        24  2011-11-10 11:49:00   \n352746          hanging metal heart lantern         4  2011-11-17 19:52:00   \n353097                               manual         1  2011-11-18 10:42:00   \n354170       set of 2 trays home sweet home         2  2011-11-18 13:23:00   \n358629                               manual         1  2011-11-21 11:57:00   \n370473       asstd design 3d paper stickers     12540  2011-11-25 15:57:00   \n\n        UnitPrice  CustomerID         Country  amount_spent  \n6914          0.0       12647         Germany           0.0  \n22539         0.0       16560  United Kingdom           0.0  \n25379         0.0       14911            EIRE           0.0  \n29080         0.0       13081  United Kingdom           0.0  \n29082         0.0       13081  United Kingdom           0.0  \n34494         0.0       15107  United Kingdom           0.0  \n53788         0.0       17560  United Kingdom           0.0  \n85671         0.0       13239  United Kingdom           0.0  \n92875         0.0       13113  United Kingdom           0.0  \n97430         0.0       14410  United Kingdom           0.0  \n107192        0.0       12457     Switzerland           0.0  \n128641        0.0       17667  United Kingdom           0.0  \n137127        0.0       12415       Australia           0.0  \n194648        0.0       16818  United Kingdom           0.0  \n197173        0.0       12507           Spain           0.0  \n199711        0.0       15581  United Kingdom           0.0  \n208950        0.0       14911            EIRE           0.0  \n223931        0.0       14646     Netherlands           0.0  \n223932        0.0       14646     Netherlands           0.0  \n223933        0.0       14646     Netherlands           0.0  \n223934        0.0       14646     Netherlands           0.0  \n256263        0.0       16133  United Kingdom           0.0  \n259399        0.0       12748  United Kingdom           0.0  \n273926        0.0       15804  United Kingdom           0.0  \n286507        0.0       12446             RSA           0.0  \n307092        0.0       18059  United Kingdom           0.0  \n319882        0.0       12415       Australia           0.0  \n320049        0.0       14110  United Kingdom           0.0  \n320407        0.0       12437          France           0.0  \n322279        0.0       12431       Australia           0.0  \n328385        0.0       13014  United Kingdom           0.0  \n329006        0.0       13985  United Kingdom           0.0  \n329007        0.0       13985  United Kingdom           0.0  \n334242        0.0       13081  United Kingdom           0.0  \n334243        0.0       13081  United Kingdom           0.0  \n352746        0.0       15602  United Kingdom           0.0  \n353097        0.0       12603         Germany           0.0  \n354170        0.0       12444          Norway           0.0  \n358629        0.0       16406  United Kingdom           0.0  \n370473        0.0       13256  United Kingdom           0.0  ",
      "text/html": "<div>\n<style scoped>\n    .dataframe tbody tr th:only-of-type {\n        vertical-align: middle;\n    }\n\n    .dataframe tbody tr th {\n        vertical-align: top;\n    }\n\n    .dataframe thead th {\n        text-align: right;\n    }\n</style>\n<table border=\"1\" class=\"dataframe\">\n  <thead>\n    <tr style=\"text-align: right;\">\n      <th></th>\n      <th>Unnamed: 0</th>\n      <th>InvoiceNo</th>\n      <th>StockCode</th>\n      <th>year</th>\n      <th>month</th>\n      <th>day</th>\n      <th>hour</th>\n      <th>Description</th>\n      <th>Quantity</th>\n      <th>InvoiceDate</th>\n      <th>UnitPrice</th>\n      <th>CustomerID</th>\n      <th>Country</th>\n      <th>amount_spent</th>\n    </tr>\n  </thead>\n  <tbody>\n    <tr>\n      <th>6914</th>\n      <td>9302</td>\n      <td>537197</td>\n      <td>22841</td>\n      <td>2010</td>\n      <td>12</td>\n      <td>7</td>\n      <td>14</td>\n      <td>round cake tin vintage green</td>\n      <td>1</td>\n      <td>2010-12-05 14:02:00</td>\n      <td>0.0</td>\n      <td>12647</td>\n      <td>Germany</td>\n      <td>0.0</td>\n    </tr>\n    <tr>\n      <th>22539</th>\n      <td>33576</td>\n      <td>539263</td>\n      <td>22580</td>\n      <td>2010</td>\n      <td>12</td>\n      <td>4</td>\n      <td>14</td>\n      <td>advent calendar gingham sack</td>\n      <td>4</td>\n      <td>2010-12-16 14:36:00</td>\n      <td>0.0</td>\n      <td>16560</td>\n      <td>United Kingdom</td>\n      <td>0.0</td>\n    </tr>\n    <tr>\n      <th>25379</th>\n      <td>40089</td>\n      <td>539722</td>\n      <td>22423</td>\n      <td>2010</td>\n      <td>12</td>\n      <td>2</td>\n      <td>13</td>\n      <td>regency cakestand 3 tier</td>\n      <td>10</td>\n      <td>2010-12-21 13:45:00</td>\n      <td>0.0</td>\n      <td>14911</td>\n      <td>EIRE</td>\n      <td>0.0</td>\n    </tr>\n    <tr>\n      <th>29080</th>\n      <td>47068</td>\n      <td>540372</td>\n      <td>22090</td>\n      <td>2011</td>\n      <td>1</td>\n      <td>4</td>\n      <td>16</td>\n      <td>paper bunting retrospot</td>\n      <td>24</td>\n      <td>2011-01-06 16:41:00</td>\n      <td>0.0</td>\n      <td>13081</td>\n      <td>United Kingdom</td>\n      <td>0.0</td>\n    </tr>\n    <tr>\n      <th>29082</th>\n      <td>47070</td>\n      <td>540372</td>\n      <td>22553</td>\n      <td>2011</td>\n      <td>1</td>\n      <td>4</td>\n      <td>16</td>\n      <td>plasters in tin skulls</td>\n      <td>24</td>\n      <td>2011-01-06 16:41:00</td>\n      <td>0.0</td>\n      <td>13081</td>\n      <td>United Kingdom</td>\n      <td>0.0</td>\n    </tr>\n    <tr>\n      <th>34494</th>\n      <td>56674</td>\n      <td>541109</td>\n      <td>22168</td>\n      <td>2011</td>\n      <td>1</td>\n      <td>4</td>\n      <td>15</td>\n      <td>organiser wood antique white</td>\n      <td>1</td>\n      <td>2011-01-13 15:10:00</td>\n      <td>0.0</td>\n      <td>15107</td>\n      <td>United Kingdom</td>\n      <td>0.0</td>\n    </tr>\n    <tr>\n      <th>53788</th>\n      <td>86789</td>\n      <td>543599</td>\n      <td>84535B</td>\n      <td>2011</td>\n      <td>2</td>\n      <td>4</td>\n      <td>13</td>\n      <td>fairy cakes notebook a6 size</td>\n      <td>16</td>\n      <td>2011-02-10 13:08:00</td>\n      <td>0.0</td>\n      <td>17560</td>\n      <td>United Kingdom</td>\n      <td>0.0</td>\n    </tr>\n    <tr>\n      <th>85671</th>\n      <td>130188</td>\n      <td>547417</td>\n      <td>22062</td>\n      <td>2011</td>\n      <td>3</td>\n      <td>3</td>\n      <td>10</td>\n      <td>ceramic bowl with love heart design</td>\n      <td>36</td>\n      <td>2011-03-23 10:25:00</td>\n      <td>0.0</td>\n      <td>13239</td>\n      <td>United Kingdom</td>\n      <td>0.0</td>\n    </tr>\n    <tr>\n      <th>92875</th>\n      <td>139453</td>\n      <td>548318</td>\n      <td>22055</td>\n      <td>2011</td>\n      <td>3</td>\n      <td>3</td>\n      <td>12</td>\n      <td>mini cake stand  hanging strawbery</td>\n      <td>5</td>\n      <td>2011-03-30 12:45:00</td>\n      <td>0.0</td>\n      <td>13113</td>\n      <td>United Kingdom</td>\n      <td>0.0</td>\n    </tr>\n    <tr>\n      <th>97430</th>\n      <td>145208</td>\n      <td>548871</td>\n      <td>22162</td>\n      <td>2011</td>\n      <td>4</td>\n      <td>1</td>\n      <td>14</td>\n      <td>heart garland rustic padded</td>\n      <td>2</td>\n      <td>2011-04-04 14:42:00</td>\n      <td>0.0</td>\n      <td>14410</td>\n      <td>United Kingdom</td>\n      <td>0.0</td>\n    </tr>\n    <tr>\n      <th>107192</th>\n      <td>157042</td>\n      <td>550188</td>\n      <td>22636</td>\n      <td>2011</td>\n      <td>4</td>\n      <td>4</td>\n      <td>18</td>\n      <td>childs breakfast set circus parade</td>\n      <td>1</td>\n      <td>2011-04-14 18:57:00</td>\n      <td>0.0</td>\n      <td>12457</td>\n      <td>Switzerland</td>\n      <td>0.0</td>\n    </tr>\n    <tr>\n      <th>128641</th>\n      <td>187613</td>\n      <td>553000</td>\n      <td>47566</td>\n      <td>2011</td>\n      <td>5</td>\n      <td>4</td>\n      <td>15</td>\n      <td>party bunting</td>\n      <td>4</td>\n      <td>2011-05-12 15:21:00</td>\n      <td>0.0</td>\n      <td>17667</td>\n      <td>United Kingdom</td>\n      <td>0.0</td>\n    </tr>\n    <tr>\n      <th>137127</th>\n      <td>198383</td>\n      <td>554037</td>\n      <td>22619</td>\n      <td>2011</td>\n      <td>5</td>\n      <td>5</td>\n      <td>14</td>\n      <td>set of 6 soldier skittles</td>\n      <td>80</td>\n      <td>2011-05-20 14:13:00</td>\n      <td>0.0</td>\n      <td>12415</td>\n      <td>Australia</td>\n      <td>0.0</td>\n    </tr>\n    <tr>\n      <th>194648</th>\n      <td>279324</td>\n      <td>561284</td>\n      <td>22167</td>\n      <td>2011</td>\n      <td>7</td>\n      <td>2</td>\n      <td>12</td>\n      <td>oval wall mirror diamante</td>\n      <td>1</td>\n      <td>2011-07-26 12:24:00</td>\n      <td>0.0</td>\n      <td>16818</td>\n      <td>United Kingdom</td>\n      <td>0.0</td>\n    </tr>\n    <tr>\n      <th>197173</th>\n      <td>282912</td>\n      <td>561669</td>\n      <td>22960</td>\n      <td>2011</td>\n      <td>7</td>\n      <td>4</td>\n      <td>17</td>\n      <td>jam making set with jars</td>\n      <td>11</td>\n      <td>2011-07-28 17:09:00</td>\n      <td>0.0</td>\n      <td>12507</td>\n      <td>Spain</td>\n      <td>0.0</td>\n    </tr>\n    <tr>\n      <th>199711</th>\n      <td>285657</td>\n      <td>561916</td>\n      <td>M</td>\n      <td>2011</td>\n      <td>8</td>\n      <td>1</td>\n      <td>11</td>\n      <td>manual</td>\n      <td>1</td>\n      <td>2011-08-01 11:44:00</td>\n      <td>0.0</td>\n      <td>15581</td>\n      <td>United Kingdom</td>\n      <td>0.0</td>\n    </tr>\n    <tr>\n      <th>208950</th>\n      <td>298054</td>\n      <td>562973</td>\n      <td>23157</td>\n      <td>2011</td>\n      <td>8</td>\n      <td>4</td>\n      <td>11</td>\n      <td>set of 6 nativity magnets</td>\n      <td>240</td>\n      <td>2011-08-11 11:42:00</td>\n      <td>0.0</td>\n      <td>14911</td>\n      <td>EIRE</td>\n      <td>0.0</td>\n    </tr>\n    <tr>\n      <th>223931</th>\n      <td>314745</td>\n      <td>564651</td>\n      <td>23270</td>\n      <td>2011</td>\n      <td>8</td>\n      <td>5</td>\n      <td>14</td>\n      <td>set of 2 ceramic painted hearts</td>\n      <td>96</td>\n      <td>2011-08-26 14:19:00</td>\n      <td>0.0</td>\n      <td>14646</td>\n      <td>Netherlands</td>\n      <td>0.0</td>\n    </tr>\n    <tr>\n      <th>223932</th>\n      <td>314746</td>\n      <td>564651</td>\n      <td>23268</td>\n      <td>2011</td>\n      <td>8</td>\n      <td>5</td>\n      <td>14</td>\n      <td>set of 2 ceramic christmas reindeer</td>\n      <td>192</td>\n      <td>2011-08-26 14:19:00</td>\n      <td>0.0</td>\n      <td>14646</td>\n      <td>Netherlands</td>\n      <td>0.0</td>\n    </tr>\n    <tr>\n      <th>223933</th>\n      <td>314747</td>\n      <td>564651</td>\n      <td>22955</td>\n      <td>2011</td>\n      <td>8</td>\n      <td>5</td>\n      <td>14</td>\n      <td>36 foil star cake cases</td>\n      <td>144</td>\n      <td>2011-08-26 14:19:00</td>\n      <td>0.0</td>\n      <td>14646</td>\n      <td>Netherlands</td>\n      <td>0.0</td>\n    </tr>\n    <tr>\n      <th>223934</th>\n      <td>314748</td>\n      <td>564651</td>\n      <td>21786</td>\n      <td>2011</td>\n      <td>8</td>\n      <td>5</td>\n      <td>14</td>\n      <td>polkadot rain hat</td>\n      <td>144</td>\n      <td>2011-08-26 14:19:00</td>\n      <td>0.0</td>\n      <td>14646</td>\n      <td>Netherlands</td>\n      <td>0.0</td>\n    </tr>\n    <tr>\n      <th>256263</th>\n      <td>358655</td>\n      <td>568158</td>\n      <td>PADS</td>\n      <td>2011</td>\n      <td>9</td>\n      <td>7</td>\n      <td>12</td>\n      <td>pads to match all cushions</td>\n      <td>1</td>\n      <td>2011-09-25 12:22:00</td>\n      <td>0.0</td>\n      <td>16133</td>\n      <td>United Kingdom</td>\n      <td>0.0</td>\n    </tr>\n    <tr>\n      <th>259399</th>\n      <td>361825</td>\n      <td>568384</td>\n      <td>M</td>\n      <td>2011</td>\n      <td>9</td>\n      <td>2</td>\n      <td>9</td>\n      <td>manual</td>\n      <td>1</td>\n      <td>2011-09-27 09:46:00</td>\n      <td>0.0</td>\n      <td>12748</td>\n      <td>United Kingdom</td>\n      <td>0.0</td>\n    </tr>\n    <tr>\n      <th>273926</th>\n      <td>379913</td>\n      <td>569716</td>\n      <td>22778</td>\n      <td>2011</td>\n      <td>10</td>\n      <td>4</td>\n      <td>8</td>\n      <td>glass cloche small</td>\n      <td>2</td>\n      <td>2011-10-06 08:17:00</td>\n      <td>0.0</td>\n      <td>15804</td>\n      <td>United Kingdom</td>\n      <td>0.0</td>\n    </tr>\n    <tr>\n      <th>286507</th>\n      <td>395529</td>\n      <td>571035</td>\n      <td>M</td>\n      <td>2011</td>\n      <td>10</td>\n      <td>4</td>\n      <td>12</td>\n      <td>manual</td>\n      <td>1</td>\n      <td>2011-10-13 12:50:00</td>\n      <td>0.0</td>\n      <td>12446</td>\n      <td>RSA</td>\n      <td>0.0</td>\n    </tr>\n    <tr>\n      <th>307092</th>\n      <td>420404</td>\n      <td>572893</td>\n      <td>21208</td>\n      <td>2011</td>\n      <td>10</td>\n      <td>3</td>\n      <td>14</td>\n      <td>pastel colour honeycomb fan</td>\n      <td>5</td>\n      <td>2011-10-26 14:36:00</td>\n      <td>0.0</td>\n      <td>18059</td>\n      <td>United Kingdom</td>\n      <td>0.0</td>\n    </tr>\n    <tr>\n      <th>319882</th>\n      <td>436428</td>\n      <td>574138</td>\n      <td>23234</td>\n      <td>2011</td>\n      <td>11</td>\n      <td>4</td>\n      <td>11</td>\n      <td>biscuit tin vintage christmas</td>\n      <td>216</td>\n      <td>2011-11-03 11:26:00</td>\n      <td>0.0</td>\n      <td>12415</td>\n      <td>Australia</td>\n      <td>0.0</td>\n    </tr>\n    <tr>\n      <th>320049</th>\n      <td>436597</td>\n      <td>574175</td>\n      <td>22065</td>\n      <td>2011</td>\n      <td>11</td>\n      <td>4</td>\n      <td>11</td>\n      <td>christmas pudding trinket pot</td>\n      <td>12</td>\n      <td>2011-11-03 11:47:00</td>\n      <td>0.0</td>\n      <td>14110</td>\n      <td>United Kingdom</td>\n      <td>0.0</td>\n    </tr>\n    <tr>\n      <th>320407</th>\n      <td>436961</td>\n      <td>574252</td>\n      <td>M</td>\n      <td>2011</td>\n      <td>11</td>\n      <td>4</td>\n      <td>13</td>\n      <td>manual</td>\n      <td>1</td>\n      <td>2011-11-03 13:24:00</td>\n      <td>0.0</td>\n      <td>12437</td>\n      <td>France</td>\n      <td>0.0</td>\n    </tr>\n    <tr>\n      <th>322279</th>\n      <td>439361</td>\n      <td>574469</td>\n      <td>22385</td>\n      <td>2011</td>\n      <td>11</td>\n      <td>5</td>\n      <td>11</td>\n      <td>jumbo bag spaceboy design</td>\n      <td>12</td>\n      <td>2011-11-04 11:55:00</td>\n      <td>0.0</td>\n      <td>12431</td>\n      <td>Australia</td>\n      <td>0.0</td>\n    </tr>\n    <tr>\n      <th>328385</th>\n      <td>446125</td>\n      <td>574879</td>\n      <td>22625</td>\n      <td>2011</td>\n      <td>11</td>\n      <td>1</td>\n      <td>13</td>\n      <td>red kitchen scales</td>\n      <td>2</td>\n      <td>2011-11-07 13:22:00</td>\n      <td>0.0</td>\n      <td>13014</td>\n      <td>United Kingdom</td>\n      <td>0.0</td>\n    </tr>\n    <tr>\n      <th>329006</th>\n      <td>446793</td>\n      <td>574920</td>\n      <td>22899</td>\n      <td>2011</td>\n      <td>11</td>\n      <td>1</td>\n      <td>16</td>\n      <td>children's apron dolly girl</td>\n      <td>1</td>\n      <td>2011-11-07 16:34:00</td>\n      <td>0.0</td>\n      <td>13985</td>\n      <td>United Kingdom</td>\n      <td>0.0</td>\n    </tr>\n    <tr>\n      <th>329007</th>\n      <td>446794</td>\n      <td>574920</td>\n      <td>23480</td>\n      <td>2011</td>\n      <td>11</td>\n      <td>1</td>\n      <td>16</td>\n      <td>mini lights woodland mushrooms</td>\n      <td>1</td>\n      <td>2011-11-07 16:34:00</td>\n      <td>0.0</td>\n      <td>13985</td>\n      <td>United Kingdom</td>\n      <td>0.0</td>\n    </tr>\n    <tr>\n      <th>334242</th>\n      <td>454463</td>\n      <td>575579</td>\n      <td>22437</td>\n      <td>2011</td>\n      <td>11</td>\n      <td>4</td>\n      <td>11</td>\n      <td>set of 9 black skull balloons</td>\n      <td>20</td>\n      <td>2011-11-10 11:49:00</td>\n      <td>0.0</td>\n      <td>13081</td>\n      <td>United Kingdom</td>\n      <td>0.0</td>\n    </tr>\n    <tr>\n      <th>334243</th>\n      <td>454464</td>\n      <td>575579</td>\n      <td>22089</td>\n      <td>2011</td>\n      <td>11</td>\n      <td>4</td>\n      <td>11</td>\n      <td>paper bunting vintage paisley</td>\n      <td>24</td>\n      <td>2011-11-10 11:49:00</td>\n      <td>0.0</td>\n      <td>13081</td>\n      <td>United Kingdom</td>\n      <td>0.0</td>\n    </tr>\n    <tr>\n      <th>352746</th>\n      <td>479079</td>\n      <td>577129</td>\n      <td>22464</td>\n      <td>2011</td>\n      <td>11</td>\n      <td>4</td>\n      <td>19</td>\n      <td>hanging metal heart lantern</td>\n      <td>4</td>\n      <td>2011-11-17 19:52:00</td>\n      <td>0.0</td>\n      <td>15602</td>\n      <td>United Kingdom</td>\n      <td>0.0</td>\n    </tr>\n    <tr>\n      <th>353097</th>\n      <td>479546</td>\n      <td>577168</td>\n      <td>M</td>\n      <td>2011</td>\n      <td>11</td>\n      <td>5</td>\n      <td>10</td>\n      <td>manual</td>\n      <td>1</td>\n      <td>2011-11-18 10:42:00</td>\n      <td>0.0</td>\n      <td>12603</td>\n      <td>Germany</td>\n      <td>0.0</td>\n    </tr>\n    <tr>\n      <th>354170</th>\n      <td>480649</td>\n      <td>577314</td>\n      <td>23407</td>\n      <td>2011</td>\n      <td>11</td>\n      <td>5</td>\n      <td>13</td>\n      <td>set of 2 trays home sweet home</td>\n      <td>2</td>\n      <td>2011-11-18 13:23:00</td>\n      <td>0.0</td>\n      <td>12444</td>\n      <td>Norway</td>\n      <td>0.0</td>\n    </tr>\n    <tr>\n      <th>358629</th>\n      <td>485985</td>\n      <td>577696</td>\n      <td>M</td>\n      <td>2011</td>\n      <td>11</td>\n      <td>1</td>\n      <td>11</td>\n      <td>manual</td>\n      <td>1</td>\n      <td>2011-11-21 11:57:00</td>\n      <td>0.0</td>\n      <td>16406</td>\n      <td>United Kingdom</td>\n      <td>0.0</td>\n    </tr>\n    <tr>\n      <th>370473</th>\n      <td>502122</td>\n      <td>578841</td>\n      <td>84826</td>\n      <td>2011</td>\n      <td>11</td>\n      <td>5</td>\n      <td>15</td>\n      <td>asstd design 3d paper stickers</td>\n      <td>12540</td>\n      <td>2011-11-25 15:57:00</td>\n      <td>0.0</td>\n      <td>13256</td>\n      <td>United Kingdom</td>\n      <td>0.0</td>\n    </tr>\n  </tbody>\n</table>\n</div>"
     },
     "metadata": {},
     "execution_count": 293
    }
   ],
   "source": [
    "orders[orders['UnitPrice'] == 0]"
   ]
  },
  {
   "cell_type": "markdown",
   "metadata": {},
   "source": [
    "#### Select all orders whose description starts with `lunch bag`.\n",
    "**Hint**: use string functions."
   ]
  },
  {
   "cell_type": "code",
   "execution_count": 294,
   "metadata": {},
   "outputs": [
    {
     "output_type": "execute_result",
     "data": {
      "text/plain": "        Unnamed: 0  InvoiceNo StockCode  year  month  day  hour  \\\n93              93     536378     20725  2010     12    3     9   \n172            174     536385     22662  2010     12    3     9   \n354            363     536401     22662  2010     12    3    11   \n359            368     536401     20725  2010     12    3    11   \n360            369     536401     22382  2010     12    3    11   \n...            ...        ...       ...   ...    ...  ...   ...   \n397465      540436     581486     23207  2011     12    5     9   \n397713      541695     581538     20727  2011     12    5    11   \n397714      541696     581538     20725  2011     12    5    11   \n397877      541862     581581     23681  2011     12    5    12   \n397880      541865     581583     20725  2011     12    5    12   \n\n                        Description  Quantity          InvoiceDate  UnitPrice  \\\n93          lunch bag red retrospot        10  2010-12-01 09:37:00       1.65   \n172     lunch bag dolly girl design        10  2010-12-01 09:56:00       1.65   \n354     lunch bag dolly girl design         1  2010-12-01 11:21:00       1.65   \n359         lunch bag red retrospot         1  2010-12-01 11:21:00       1.65   \n360      lunch bag spaceboy design          2  2010-12-01 11:21:00       1.65   \n...                             ...       ...                  ...        ...   \n397465    lunch bag alphabet design        10  2011-12-09 09:38:00       1.65   \n397713      lunch bag  black skull.         1  2011-12-09 11:34:00       1.65   \n397714      lunch bag red retrospot         1  2011-12-09 11:34:00       1.65   \n397877  lunch bag red vintage doily        10  2011-12-09 12:20:00       1.65   \n397880      lunch bag red retrospot        40  2011-12-09 12:23:00       1.45   \n\n        CustomerID         Country  amount_spent  \n93           14688  United Kingdom         16.50  \n172          17420  United Kingdom         16.50  \n354          15862  United Kingdom          1.65  \n359          15862  United Kingdom          1.65  \n360          15862  United Kingdom          3.30  \n...            ...             ...           ...  \n397465       17001  United Kingdom         16.50  \n397713       14446  United Kingdom          1.65  \n397714       14446  United Kingdom          1.65  \n397877       17581  United Kingdom         16.50  \n397880       13777  United Kingdom         58.00  \n\n[11556 rows x 14 columns]",
      "text/html": "<div>\n<style scoped>\n    .dataframe tbody tr th:only-of-type {\n        vertical-align: middle;\n    }\n\n    .dataframe tbody tr th {\n        vertical-align: top;\n    }\n\n    .dataframe thead th {\n        text-align: right;\n    }\n</style>\n<table border=\"1\" class=\"dataframe\">\n  <thead>\n    <tr style=\"text-align: right;\">\n      <th></th>\n      <th>Unnamed: 0</th>\n      <th>InvoiceNo</th>\n      <th>StockCode</th>\n      <th>year</th>\n      <th>month</th>\n      <th>day</th>\n      <th>hour</th>\n      <th>Description</th>\n      <th>Quantity</th>\n      <th>InvoiceDate</th>\n      <th>UnitPrice</th>\n      <th>CustomerID</th>\n      <th>Country</th>\n      <th>amount_spent</th>\n    </tr>\n  </thead>\n  <tbody>\n    <tr>\n      <th>93</th>\n      <td>93</td>\n      <td>536378</td>\n      <td>20725</td>\n      <td>2010</td>\n      <td>12</td>\n      <td>3</td>\n      <td>9</td>\n      <td>lunch bag red retrospot</td>\n      <td>10</td>\n      <td>2010-12-01 09:37:00</td>\n      <td>1.65</td>\n      <td>14688</td>\n      <td>United Kingdom</td>\n      <td>16.50</td>\n    </tr>\n    <tr>\n      <th>172</th>\n      <td>174</td>\n      <td>536385</td>\n      <td>22662</td>\n      <td>2010</td>\n      <td>12</td>\n      <td>3</td>\n      <td>9</td>\n      <td>lunch bag dolly girl design</td>\n      <td>10</td>\n      <td>2010-12-01 09:56:00</td>\n      <td>1.65</td>\n      <td>17420</td>\n      <td>United Kingdom</td>\n      <td>16.50</td>\n    </tr>\n    <tr>\n      <th>354</th>\n      <td>363</td>\n      <td>536401</td>\n      <td>22662</td>\n      <td>2010</td>\n      <td>12</td>\n      <td>3</td>\n      <td>11</td>\n      <td>lunch bag dolly girl design</td>\n      <td>1</td>\n      <td>2010-12-01 11:21:00</td>\n      <td>1.65</td>\n      <td>15862</td>\n      <td>United Kingdom</td>\n      <td>1.65</td>\n    </tr>\n    <tr>\n      <th>359</th>\n      <td>368</td>\n      <td>536401</td>\n      <td>20725</td>\n      <td>2010</td>\n      <td>12</td>\n      <td>3</td>\n      <td>11</td>\n      <td>lunch bag red retrospot</td>\n      <td>1</td>\n      <td>2010-12-01 11:21:00</td>\n      <td>1.65</td>\n      <td>15862</td>\n      <td>United Kingdom</td>\n      <td>1.65</td>\n    </tr>\n    <tr>\n      <th>360</th>\n      <td>369</td>\n      <td>536401</td>\n      <td>22382</td>\n      <td>2010</td>\n      <td>12</td>\n      <td>3</td>\n      <td>11</td>\n      <td>lunch bag spaceboy design</td>\n      <td>2</td>\n      <td>2010-12-01 11:21:00</td>\n      <td>1.65</td>\n      <td>15862</td>\n      <td>United Kingdom</td>\n      <td>3.30</td>\n    </tr>\n    <tr>\n      <th>...</th>\n      <td>...</td>\n      <td>...</td>\n      <td>...</td>\n      <td>...</td>\n      <td>...</td>\n      <td>...</td>\n      <td>...</td>\n      <td>...</td>\n      <td>...</td>\n      <td>...</td>\n      <td>...</td>\n      <td>...</td>\n      <td>...</td>\n      <td>...</td>\n    </tr>\n    <tr>\n      <th>397465</th>\n      <td>540436</td>\n      <td>581486</td>\n      <td>23207</td>\n      <td>2011</td>\n      <td>12</td>\n      <td>5</td>\n      <td>9</td>\n      <td>lunch bag alphabet design</td>\n      <td>10</td>\n      <td>2011-12-09 09:38:00</td>\n      <td>1.65</td>\n      <td>17001</td>\n      <td>United Kingdom</td>\n      <td>16.50</td>\n    </tr>\n    <tr>\n      <th>397713</th>\n      <td>541695</td>\n      <td>581538</td>\n      <td>20727</td>\n      <td>2011</td>\n      <td>12</td>\n      <td>5</td>\n      <td>11</td>\n      <td>lunch bag  black skull.</td>\n      <td>1</td>\n      <td>2011-12-09 11:34:00</td>\n      <td>1.65</td>\n      <td>14446</td>\n      <td>United Kingdom</td>\n      <td>1.65</td>\n    </tr>\n    <tr>\n      <th>397714</th>\n      <td>541696</td>\n      <td>581538</td>\n      <td>20725</td>\n      <td>2011</td>\n      <td>12</td>\n      <td>5</td>\n      <td>11</td>\n      <td>lunch bag red retrospot</td>\n      <td>1</td>\n      <td>2011-12-09 11:34:00</td>\n      <td>1.65</td>\n      <td>14446</td>\n      <td>United Kingdom</td>\n      <td>1.65</td>\n    </tr>\n    <tr>\n      <th>397877</th>\n      <td>541862</td>\n      <td>581581</td>\n      <td>23681</td>\n      <td>2011</td>\n      <td>12</td>\n      <td>5</td>\n      <td>12</td>\n      <td>lunch bag red vintage doily</td>\n      <td>10</td>\n      <td>2011-12-09 12:20:00</td>\n      <td>1.65</td>\n      <td>17581</td>\n      <td>United Kingdom</td>\n      <td>16.50</td>\n    </tr>\n    <tr>\n      <th>397880</th>\n      <td>541865</td>\n      <td>581583</td>\n      <td>20725</td>\n      <td>2011</td>\n      <td>12</td>\n      <td>5</td>\n      <td>12</td>\n      <td>lunch bag red retrospot</td>\n      <td>40</td>\n      <td>2011-12-09 12:23:00</td>\n      <td>1.45</td>\n      <td>13777</td>\n      <td>United Kingdom</td>\n      <td>58.00</td>\n    </tr>\n  </tbody>\n</table>\n<p>11556 rows × 14 columns</p>\n</div>"
     },
     "metadata": {},
     "execution_count": 294
    }
   ],
   "source": [
    "lunch_bag = orders[orders['Description'].str.find('lunch bag') == 0]\n",
    "lunch_bag"
   ]
  },
  {
   "cell_type": "markdown",
   "metadata": {},
   "source": [
    "#### Select all `lunch bag` orders made in 2011."
   ]
  },
  {
   "cell_type": "code",
   "execution_count": 295,
   "metadata": {},
   "outputs": [
    {
     "output_type": "execute_result",
     "data": {
      "text/plain": "        Unnamed: 0  InvoiceNo StockCode  year  month  day  hour  \\\n26340        42678     540015     20725  2011      1    2    11   \n26341        42679     540015     20726  2011      1    2    11   \n26512        42851     540023     22382  2011      1    2    12   \n26513        42852     540023     20726  2011      1    2    12   \n26860        43616     540098     22384  2011      1    2    15   \n...            ...        ...       ...   ...    ...  ...   ...   \n397465      540436     581486     23207  2011     12    5     9   \n397713      541695     581538     20727  2011     12    5    11   \n397714      541696     581538     20725  2011     12    5    11   \n397877      541862     581581     23681  2011     12    5    12   \n397880      541865     581583     20725  2011     12    5    12   \n\n                        Description  Quantity          InvoiceDate  UnitPrice  \\\n26340       lunch bag red retrospot        10  2011-01-04 11:40:00       1.65   \n26341            lunch bag woodland        10  2011-01-04 11:40:00       1.65   \n26512    lunch bag spaceboy design          2  2011-01-04 12:58:00       1.65   \n26513            lunch bag woodland         1  2011-01-04 12:58:00       1.65   \n26860       lunch bag pink polkadot         1  2011-01-04 15:50:00       1.65   \n...                             ...       ...                  ...        ...   \n397465    lunch bag alphabet design        10  2011-12-09 09:38:00       1.65   \n397713      lunch bag  black skull.         1  2011-12-09 11:34:00       1.65   \n397714      lunch bag red retrospot         1  2011-12-09 11:34:00       1.65   \n397877  lunch bag red vintage doily        10  2011-12-09 12:20:00       1.65   \n397880      lunch bag red retrospot        40  2011-12-09 12:23:00       1.45   \n\n        CustomerID         Country  amount_spent  \n26340        13319  United Kingdom         16.50  \n26341        13319  United Kingdom         16.50  \n26512        15039  United Kingdom          3.30  \n26513        15039  United Kingdom          1.65  \n26860        16241  United Kingdom          1.65  \n...            ...             ...           ...  \n397465       17001  United Kingdom         16.50  \n397713       14446  United Kingdom          1.65  \n397714       14446  United Kingdom          1.65  \n397877       17581  United Kingdom         16.50  \n397880       13777  United Kingdom         58.00  \n\n[11234 rows x 14 columns]",
      "text/html": "<div>\n<style scoped>\n    .dataframe tbody tr th:only-of-type {\n        vertical-align: middle;\n    }\n\n    .dataframe tbody tr th {\n        vertical-align: top;\n    }\n\n    .dataframe thead th {\n        text-align: right;\n    }\n</style>\n<table border=\"1\" class=\"dataframe\">\n  <thead>\n    <tr style=\"text-align: right;\">\n      <th></th>\n      <th>Unnamed: 0</th>\n      <th>InvoiceNo</th>\n      <th>StockCode</th>\n      <th>year</th>\n      <th>month</th>\n      <th>day</th>\n      <th>hour</th>\n      <th>Description</th>\n      <th>Quantity</th>\n      <th>InvoiceDate</th>\n      <th>UnitPrice</th>\n      <th>CustomerID</th>\n      <th>Country</th>\n      <th>amount_spent</th>\n    </tr>\n  </thead>\n  <tbody>\n    <tr>\n      <th>26340</th>\n      <td>42678</td>\n      <td>540015</td>\n      <td>20725</td>\n      <td>2011</td>\n      <td>1</td>\n      <td>2</td>\n      <td>11</td>\n      <td>lunch bag red retrospot</td>\n      <td>10</td>\n      <td>2011-01-04 11:40:00</td>\n      <td>1.65</td>\n      <td>13319</td>\n      <td>United Kingdom</td>\n      <td>16.50</td>\n    </tr>\n    <tr>\n      <th>26341</th>\n      <td>42679</td>\n      <td>540015</td>\n      <td>20726</td>\n      <td>2011</td>\n      <td>1</td>\n      <td>2</td>\n      <td>11</td>\n      <td>lunch bag woodland</td>\n      <td>10</td>\n      <td>2011-01-04 11:40:00</td>\n      <td>1.65</td>\n      <td>13319</td>\n      <td>United Kingdom</td>\n      <td>16.50</td>\n    </tr>\n    <tr>\n      <th>26512</th>\n      <td>42851</td>\n      <td>540023</td>\n      <td>22382</td>\n      <td>2011</td>\n      <td>1</td>\n      <td>2</td>\n      <td>12</td>\n      <td>lunch bag spaceboy design</td>\n      <td>2</td>\n      <td>2011-01-04 12:58:00</td>\n      <td>1.65</td>\n      <td>15039</td>\n      <td>United Kingdom</td>\n      <td>3.30</td>\n    </tr>\n    <tr>\n      <th>26513</th>\n      <td>42852</td>\n      <td>540023</td>\n      <td>20726</td>\n      <td>2011</td>\n      <td>1</td>\n      <td>2</td>\n      <td>12</td>\n      <td>lunch bag woodland</td>\n      <td>1</td>\n      <td>2011-01-04 12:58:00</td>\n      <td>1.65</td>\n      <td>15039</td>\n      <td>United Kingdom</td>\n      <td>1.65</td>\n    </tr>\n    <tr>\n      <th>26860</th>\n      <td>43616</td>\n      <td>540098</td>\n      <td>22384</td>\n      <td>2011</td>\n      <td>1</td>\n      <td>2</td>\n      <td>15</td>\n      <td>lunch bag pink polkadot</td>\n      <td>1</td>\n      <td>2011-01-04 15:50:00</td>\n      <td>1.65</td>\n      <td>16241</td>\n      <td>United Kingdom</td>\n      <td>1.65</td>\n    </tr>\n    <tr>\n      <th>...</th>\n      <td>...</td>\n      <td>...</td>\n      <td>...</td>\n      <td>...</td>\n      <td>...</td>\n      <td>...</td>\n      <td>...</td>\n      <td>...</td>\n      <td>...</td>\n      <td>...</td>\n      <td>...</td>\n      <td>...</td>\n      <td>...</td>\n      <td>...</td>\n    </tr>\n    <tr>\n      <th>397465</th>\n      <td>540436</td>\n      <td>581486</td>\n      <td>23207</td>\n      <td>2011</td>\n      <td>12</td>\n      <td>5</td>\n      <td>9</td>\n      <td>lunch bag alphabet design</td>\n      <td>10</td>\n      <td>2011-12-09 09:38:00</td>\n      <td>1.65</td>\n      <td>17001</td>\n      <td>United Kingdom</td>\n      <td>16.50</td>\n    </tr>\n    <tr>\n      <th>397713</th>\n      <td>541695</td>\n      <td>581538</td>\n      <td>20727</td>\n      <td>2011</td>\n      <td>12</td>\n      <td>5</td>\n      <td>11</td>\n      <td>lunch bag  black skull.</td>\n      <td>1</td>\n      <td>2011-12-09 11:34:00</td>\n      <td>1.65</td>\n      <td>14446</td>\n      <td>United Kingdom</td>\n      <td>1.65</td>\n    </tr>\n    <tr>\n      <th>397714</th>\n      <td>541696</td>\n      <td>581538</td>\n      <td>20725</td>\n      <td>2011</td>\n      <td>12</td>\n      <td>5</td>\n      <td>11</td>\n      <td>lunch bag red retrospot</td>\n      <td>1</td>\n      <td>2011-12-09 11:34:00</td>\n      <td>1.65</td>\n      <td>14446</td>\n      <td>United Kingdom</td>\n      <td>1.65</td>\n    </tr>\n    <tr>\n      <th>397877</th>\n      <td>541862</td>\n      <td>581581</td>\n      <td>23681</td>\n      <td>2011</td>\n      <td>12</td>\n      <td>5</td>\n      <td>12</td>\n      <td>lunch bag red vintage doily</td>\n      <td>10</td>\n      <td>2011-12-09 12:20:00</td>\n      <td>1.65</td>\n      <td>17581</td>\n      <td>United Kingdom</td>\n      <td>16.50</td>\n    </tr>\n    <tr>\n      <th>397880</th>\n      <td>541865</td>\n      <td>581583</td>\n      <td>20725</td>\n      <td>2011</td>\n      <td>12</td>\n      <td>5</td>\n      <td>12</td>\n      <td>lunch bag red retrospot</td>\n      <td>40</td>\n      <td>2011-12-09 12:23:00</td>\n      <td>1.45</td>\n      <td>13777</td>\n      <td>United Kingdom</td>\n      <td>58.00</td>\n    </tr>\n  </tbody>\n</table>\n<p>11234 rows × 14 columns</p>\n</div>"
     },
     "metadata": {},
     "execution_count": 295
    }
   ],
   "source": [
    "lunch_bag[lunch_bag['year'] == 2011]"
   ]
  },
  {
   "cell_type": "markdown",
   "metadata": {},
   "source": [
    "#### Show the frequency distribution of the amount spent in Spain."
   ]
  },
  {
   "cell_type": "code",
   "execution_count": 296,
   "metadata": {},
   "outputs": [
    {
     "output_type": "execute_result",
     "data": {
      "text/plain": "<AxesSubplot:>"
     },
     "metadata": {},
     "execution_count": 296
    },
    {
     "output_type": "display_data",
     "data": {
      "text/plain": "<Figure size 432x288 with 1 Axes>",
      "image/svg+xml": "<?xml version=\"1.0\" encoding=\"utf-8\" standalone=\"no\"?>\r\n<!DOCTYPE svg PUBLIC \"-//W3C//DTD SVG 1.1//EN\"\r\n  \"http://www.w3.org/Graphics/SVG/1.1/DTD/svg11.dtd\">\r\n<!-- Created with matplotlib (https://matplotlib.org/) -->\r\n<svg height=\"248.518125pt\" version=\"1.1\" viewBox=\"0 0 390.429545 248.518125\" width=\"390.429545pt\" xmlns=\"http://www.w3.org/2000/svg\" xmlns:xlink=\"http://www.w3.org/1999/xlink\">\r\n <metadata>\r\n  <rdf:RDF xmlns:cc=\"http://creativecommons.org/ns#\" xmlns:dc=\"http://purl.org/dc/elements/1.1/\" xmlns:rdf=\"http://www.w3.org/1999/02/22-rdf-syntax-ns#\">\r\n   <cc:Work>\r\n    <dc:type rdf:resource=\"http://purl.org/dc/dcmitype/StillImage\"/>\r\n    <dc:date>2020-07-22T17:08:47.740823</dc:date>\r\n    <dc:format>image/svg+xml</dc:format>\r\n    <dc:creator>\r\n     <cc:Agent>\r\n      <dc:title>Matplotlib v3.3.0, https://matplotlib.org/</dc:title>\r\n     </cc:Agent>\r\n    </dc:creator>\r\n   </cc:Work>\r\n  </rdf:RDF>\r\n </metadata>\r\n <defs>\r\n  <style type=\"text/css\">*{stroke-linecap:butt;stroke-linejoin:round;}</style>\r\n </defs>\r\n <g id=\"figure_1\">\r\n  <g id=\"patch_1\">\r\n   <path d=\"M -0 248.518125 \r\nL 390.429545 248.518125 \r\nL 390.429545 0 \r\nL -0 0 \r\nz\r\n\" style=\"fill:none;\"/>\r\n  </g>\r\n  <g id=\"axes_1\">\r\n   <g id=\"patch_2\">\r\n    <path d=\"M 39.65 224.64 \r\nL 374.45 224.64 \r\nL 374.45 7.2 \r\nL 39.65 7.2 \r\nz\r\n\" style=\"fill:#ffffff;\"/>\r\n   </g>\r\n   <g id=\"patch_3\">\r\n    <path clip-path=\"url(#pc11998a1af)\" d=\"M 54.868182 224.64 \r\nL 85.304545 224.64 \r\nL 85.304545 17.554286 \r\nL 54.868182 17.554286 \r\nz\r\n\" style=\"fill:#1f77b4;\"/>\r\n   </g>\r\n   <g id=\"patch_4\">\r\n    <path clip-path=\"url(#pc11998a1af)\" d=\"M 85.304545 224.64 \r\nL 115.740909 224.64 \r\nL 115.740909 221.313664 \r\nL 85.304545 221.313664 \r\nz\r\n\" style=\"fill:#1f77b4;\"/>\r\n   </g>\r\n   <g id=\"patch_5\">\r\n    <path clip-path=\"url(#pc11998a1af)\" d=\"M 115.740909 224.64 \r\nL 146.177273 224.64 \r\nL 146.177273 223.872384 \r\nL 115.740909 223.872384 \r\nz\r\n\" style=\"fill:#1f77b4;\"/>\r\n   </g>\r\n   <g id=\"patch_6\">\r\n    <path clip-path=\"url(#pc11998a1af)\" d=\"M 146.177273 224.64 \r\nL 176.613636 224.64 \r\nL 176.613636 224.384128 \r\nL 146.177273 224.384128 \r\nz\r\n\" style=\"fill:#1f77b4;\"/>\r\n   </g>\r\n   <g id=\"patch_7\">\r\n    <path clip-path=\"url(#pc11998a1af)\" d=\"M 176.613636 224.64 \r\nL 207.05 224.64 \r\nL 207.05 224.64 \r\nL 176.613636 224.64 \r\nz\r\n\" style=\"fill:#1f77b4;\"/>\r\n   </g>\r\n   <g id=\"patch_8\">\r\n    <path clip-path=\"url(#pc11998a1af)\" d=\"M 207.05 224.64 \r\nL 237.486364 224.64 \r\nL 237.486364 224.64 \r\nL 207.05 224.64 \r\nz\r\n\" style=\"fill:#1f77b4;\"/>\r\n   </g>\r\n   <g id=\"patch_9\">\r\n    <path clip-path=\"url(#pc11998a1af)\" d=\"M 237.486364 224.64 \r\nL 267.922727 224.64 \r\nL 267.922727 224.64 \r\nL 237.486364 224.64 \r\nz\r\n\" style=\"fill:#1f77b4;\"/>\r\n   </g>\r\n   <g id=\"patch_10\">\r\n    <path clip-path=\"url(#pc11998a1af)\" d=\"M 267.922727 224.64 \r\nL 298.359091 224.64 \r\nL 298.359091 224.64 \r\nL 267.922727 224.64 \r\nz\r\n\" style=\"fill:#1f77b4;\"/>\r\n   </g>\r\n   <g id=\"patch_11\">\r\n    <path clip-path=\"url(#pc11998a1af)\" d=\"M 298.359091 224.64 \r\nL 328.795455 224.64 \r\nL 328.795455 224.554709 \r\nL 298.359091 224.554709 \r\nz\r\n\" style=\"fill:#1f77b4;\"/>\r\n   </g>\r\n   <g id=\"patch_12\">\r\n    <path clip-path=\"url(#pc11998a1af)\" d=\"M 328.795455 224.64 \r\nL 359.231818 224.64 \r\nL 359.231818 224.213547 \r\nL 328.795455 224.213547 \r\nz\r\n\" style=\"fill:#1f77b4;\"/>\r\n   </g>\r\n   <g id=\"matplotlib.axis_1\">\r\n    <g id=\"xtick_1\">\r\n     <g id=\"line2d_1\">\r\n      <path clip-path=\"url(#pc11998a1af)\" d=\"M 54.868182 224.64 \r\nL 54.868182 7.2 \r\n\" style=\"fill:none;stroke:#b0b0b0;stroke-linecap:square;stroke-width:0.8;\"/>\r\n     </g>\r\n     <g id=\"line2d_2\">\r\n      <defs>\r\n       <path d=\"M 0 0 \r\nL 0 3.5 \r\n\" id=\"mfa9ea645cf\" style=\"stroke:#000000;stroke-width:0.8;\"/>\r\n      </defs>\r\n      <g>\r\n       <use style=\"stroke:#000000;stroke-width:0.8;\" x=\"54.868182\" xlink:href=\"#mfa9ea645cf\" y=\"224.64\"/>\r\n      </g>\r\n     </g>\r\n     <g id=\"text_1\">\r\n      <!-- 0 -->\r\n      <g transform=\"translate(51.686932 239.238437)scale(0.1 -0.1)\">\r\n       <defs>\r\n        <path d=\"M 31.78125 66.40625 \r\nQ 24.171875 66.40625 20.328125 58.90625 \r\nQ 16.5 51.421875 16.5 36.375 \r\nQ 16.5 21.390625 20.328125 13.890625 \r\nQ 24.171875 6.390625 31.78125 6.390625 \r\nQ 39.453125 6.390625 43.28125 13.890625 \r\nQ 47.125 21.390625 47.125 36.375 \r\nQ 47.125 51.421875 43.28125 58.90625 \r\nQ 39.453125 66.40625 31.78125 66.40625 \r\nz\r\nM 31.78125 74.21875 \r\nQ 44.046875 74.21875 50.515625 64.515625 \r\nQ 56.984375 54.828125 56.984375 36.375 \r\nQ 56.984375 17.96875 50.515625 8.265625 \r\nQ 44.046875 -1.421875 31.78125 -1.421875 \r\nQ 19.53125 -1.421875 13.0625 8.265625 \r\nQ 6.59375 17.96875 6.59375 36.375 \r\nQ 6.59375 54.828125 13.0625 64.515625 \r\nQ 19.53125 74.21875 31.78125 74.21875 \r\nz\r\n\" id=\"DejaVuSans-48\"/>\r\n       </defs>\r\n       <use xlink:href=\"#DejaVuSans-48\"/>\r\n      </g>\r\n     </g>\r\n    </g>\r\n    <g id=\"xtick_2\">\r\n     <g id=\"line2d_3\">\r\n      <path clip-path=\"url(#pc11998a1af)\" d=\"M 99.959091 224.64 \r\nL 99.959091 7.2 \r\n\" style=\"fill:none;stroke:#b0b0b0;stroke-linecap:square;stroke-width:0.8;\"/>\r\n     </g>\r\n     <g id=\"line2d_4\">\r\n      <g>\r\n       <use style=\"stroke:#000000;stroke-width:0.8;\" x=\"99.959091\" xlink:href=\"#mfa9ea645cf\" y=\"224.64\"/>\r\n      </g>\r\n     </g>\r\n     <g id=\"text_2\">\r\n      <!-- 200 -->\r\n      <g transform=\"translate(90.415341 239.238437)scale(0.1 -0.1)\">\r\n       <defs>\r\n        <path d=\"M 19.1875 8.296875 \r\nL 53.609375 8.296875 \r\nL 53.609375 0 \r\nL 7.328125 0 \r\nL 7.328125 8.296875 \r\nQ 12.9375 14.109375 22.625 23.890625 \r\nQ 32.328125 33.6875 34.8125 36.53125 \r\nQ 39.546875 41.84375 41.421875 45.53125 \r\nQ 43.3125 49.21875 43.3125 52.78125 \r\nQ 43.3125 58.59375 39.234375 62.25 \r\nQ 35.15625 65.921875 28.609375 65.921875 \r\nQ 23.96875 65.921875 18.8125 64.3125 \r\nQ 13.671875 62.703125 7.8125 59.421875 \r\nL 7.8125 69.390625 \r\nQ 13.765625 71.78125 18.9375 73 \r\nQ 24.125 74.21875 28.421875 74.21875 \r\nQ 39.75 74.21875 46.484375 68.546875 \r\nQ 53.21875 62.890625 53.21875 53.421875 \r\nQ 53.21875 48.921875 51.53125 44.890625 \r\nQ 49.859375 40.875 45.40625 35.40625 \r\nQ 44.1875 33.984375 37.640625 27.21875 \r\nQ 31.109375 20.453125 19.1875 8.296875 \r\nz\r\n\" id=\"DejaVuSans-50\"/>\r\n       </defs>\r\n       <use xlink:href=\"#DejaVuSans-50\"/>\r\n       <use x=\"63.623047\" xlink:href=\"#DejaVuSans-48\"/>\r\n       <use x=\"127.246094\" xlink:href=\"#DejaVuSans-48\"/>\r\n      </g>\r\n     </g>\r\n    </g>\r\n    <g id=\"xtick_3\">\r\n     <g id=\"line2d_5\">\r\n      <path clip-path=\"url(#pc11998a1af)\" d=\"M 145.05 224.64 \r\nL 145.05 7.2 \r\n\" style=\"fill:none;stroke:#b0b0b0;stroke-linecap:square;stroke-width:0.8;\"/>\r\n     </g>\r\n     <g id=\"line2d_6\">\r\n      <g>\r\n       <use style=\"stroke:#000000;stroke-width:0.8;\" x=\"145.05\" xlink:href=\"#mfa9ea645cf\" y=\"224.64\"/>\r\n      </g>\r\n     </g>\r\n     <g id=\"text_3\">\r\n      <!-- 400 -->\r\n      <g transform=\"translate(135.50625 239.238437)scale(0.1 -0.1)\">\r\n       <defs>\r\n        <path d=\"M 37.796875 64.3125 \r\nL 12.890625 25.390625 \r\nL 37.796875 25.390625 \r\nz\r\nM 35.203125 72.90625 \r\nL 47.609375 72.90625 \r\nL 47.609375 25.390625 \r\nL 58.015625 25.390625 \r\nL 58.015625 17.1875 \r\nL 47.609375 17.1875 \r\nL 47.609375 0 \r\nL 37.796875 0 \r\nL 37.796875 17.1875 \r\nL 4.890625 17.1875 \r\nL 4.890625 26.703125 \r\nz\r\n\" id=\"DejaVuSans-52\"/>\r\n       </defs>\r\n       <use xlink:href=\"#DejaVuSans-52\"/>\r\n       <use x=\"63.623047\" xlink:href=\"#DejaVuSans-48\"/>\r\n       <use x=\"127.246094\" xlink:href=\"#DejaVuSans-48\"/>\r\n      </g>\r\n     </g>\r\n    </g>\r\n    <g id=\"xtick_4\">\r\n     <g id=\"line2d_7\">\r\n      <path clip-path=\"url(#pc11998a1af)\" d=\"M 190.140909 224.64 \r\nL 190.140909 7.2 \r\n\" style=\"fill:none;stroke:#b0b0b0;stroke-linecap:square;stroke-width:0.8;\"/>\r\n     </g>\r\n     <g id=\"line2d_8\">\r\n      <g>\r\n       <use style=\"stroke:#000000;stroke-width:0.8;\" x=\"190.140909\" xlink:href=\"#mfa9ea645cf\" y=\"224.64\"/>\r\n      </g>\r\n     </g>\r\n     <g id=\"text_4\">\r\n      <!-- 600 -->\r\n      <g transform=\"translate(180.597159 239.238437)scale(0.1 -0.1)\">\r\n       <defs>\r\n        <path d=\"M 33.015625 40.375 \r\nQ 26.375 40.375 22.484375 35.828125 \r\nQ 18.609375 31.296875 18.609375 23.390625 \r\nQ 18.609375 15.53125 22.484375 10.953125 \r\nQ 26.375 6.390625 33.015625 6.390625 \r\nQ 39.65625 6.390625 43.53125 10.953125 \r\nQ 47.40625 15.53125 47.40625 23.390625 \r\nQ 47.40625 31.296875 43.53125 35.828125 \r\nQ 39.65625 40.375 33.015625 40.375 \r\nz\r\nM 52.59375 71.296875 \r\nL 52.59375 62.3125 \r\nQ 48.875 64.0625 45.09375 64.984375 \r\nQ 41.3125 65.921875 37.59375 65.921875 \r\nQ 27.828125 65.921875 22.671875 59.328125 \r\nQ 17.53125 52.734375 16.796875 39.40625 \r\nQ 19.671875 43.65625 24.015625 45.921875 \r\nQ 28.375 48.1875 33.59375 48.1875 \r\nQ 44.578125 48.1875 50.953125 41.515625 \r\nQ 57.328125 34.859375 57.328125 23.390625 \r\nQ 57.328125 12.15625 50.6875 5.359375 \r\nQ 44.046875 -1.421875 33.015625 -1.421875 \r\nQ 20.359375 -1.421875 13.671875 8.265625 \r\nQ 6.984375 17.96875 6.984375 36.375 \r\nQ 6.984375 53.65625 15.1875 63.9375 \r\nQ 23.390625 74.21875 37.203125 74.21875 \r\nQ 40.921875 74.21875 44.703125 73.484375 \r\nQ 48.484375 72.75 52.59375 71.296875 \r\nz\r\n\" id=\"DejaVuSans-54\"/>\r\n       </defs>\r\n       <use xlink:href=\"#DejaVuSans-54\"/>\r\n       <use x=\"63.623047\" xlink:href=\"#DejaVuSans-48\"/>\r\n       <use x=\"127.246094\" xlink:href=\"#DejaVuSans-48\"/>\r\n      </g>\r\n     </g>\r\n    </g>\r\n    <g id=\"xtick_5\">\r\n     <g id=\"line2d_9\">\r\n      <path clip-path=\"url(#pc11998a1af)\" d=\"M 235.231818 224.64 \r\nL 235.231818 7.2 \r\n\" style=\"fill:none;stroke:#b0b0b0;stroke-linecap:square;stroke-width:0.8;\"/>\r\n     </g>\r\n     <g id=\"line2d_10\">\r\n      <g>\r\n       <use style=\"stroke:#000000;stroke-width:0.8;\" x=\"235.231818\" xlink:href=\"#mfa9ea645cf\" y=\"224.64\"/>\r\n      </g>\r\n     </g>\r\n     <g id=\"text_5\">\r\n      <!-- 800 -->\r\n      <g transform=\"translate(225.688068 239.238437)scale(0.1 -0.1)\">\r\n       <defs>\r\n        <path d=\"M 31.78125 34.625 \r\nQ 24.75 34.625 20.71875 30.859375 \r\nQ 16.703125 27.09375 16.703125 20.515625 \r\nQ 16.703125 13.921875 20.71875 10.15625 \r\nQ 24.75 6.390625 31.78125 6.390625 \r\nQ 38.8125 6.390625 42.859375 10.171875 \r\nQ 46.921875 13.96875 46.921875 20.515625 \r\nQ 46.921875 27.09375 42.890625 30.859375 \r\nQ 38.875 34.625 31.78125 34.625 \r\nz\r\nM 21.921875 38.8125 \r\nQ 15.578125 40.375 12.03125 44.71875 \r\nQ 8.5 49.078125 8.5 55.328125 \r\nQ 8.5 64.0625 14.71875 69.140625 \r\nQ 20.953125 74.21875 31.78125 74.21875 \r\nQ 42.671875 74.21875 48.875 69.140625 \r\nQ 55.078125 64.0625 55.078125 55.328125 \r\nQ 55.078125 49.078125 51.53125 44.71875 \r\nQ 48 40.375 41.703125 38.8125 \r\nQ 48.828125 37.15625 52.796875 32.3125 \r\nQ 56.78125 27.484375 56.78125 20.515625 \r\nQ 56.78125 9.90625 50.3125 4.234375 \r\nQ 43.84375 -1.421875 31.78125 -1.421875 \r\nQ 19.734375 -1.421875 13.25 4.234375 \r\nQ 6.78125 9.90625 6.78125 20.515625 \r\nQ 6.78125 27.484375 10.78125 32.3125 \r\nQ 14.796875 37.15625 21.921875 38.8125 \r\nz\r\nM 18.3125 54.390625 \r\nQ 18.3125 48.734375 21.84375 45.5625 \r\nQ 25.390625 42.390625 31.78125 42.390625 \r\nQ 38.140625 42.390625 41.71875 45.5625 \r\nQ 45.3125 48.734375 45.3125 54.390625 \r\nQ 45.3125 60.0625 41.71875 63.234375 \r\nQ 38.140625 66.40625 31.78125 66.40625 \r\nQ 25.390625 66.40625 21.84375 63.234375 \r\nQ 18.3125 60.0625 18.3125 54.390625 \r\nz\r\n\" id=\"DejaVuSans-56\"/>\r\n       </defs>\r\n       <use xlink:href=\"#DejaVuSans-56\"/>\r\n       <use x=\"63.623047\" xlink:href=\"#DejaVuSans-48\"/>\r\n       <use x=\"127.246094\" xlink:href=\"#DejaVuSans-48\"/>\r\n      </g>\r\n     </g>\r\n    </g>\r\n    <g id=\"xtick_6\">\r\n     <g id=\"line2d_11\">\r\n      <path clip-path=\"url(#pc11998a1af)\" d=\"M 280.322727 224.64 \r\nL 280.322727 7.2 \r\n\" style=\"fill:none;stroke:#b0b0b0;stroke-linecap:square;stroke-width:0.8;\"/>\r\n     </g>\r\n     <g id=\"line2d_12\">\r\n      <g>\r\n       <use style=\"stroke:#000000;stroke-width:0.8;\" x=\"280.322727\" xlink:href=\"#mfa9ea645cf\" y=\"224.64\"/>\r\n      </g>\r\n     </g>\r\n     <g id=\"text_6\">\r\n      <!-- 1000 -->\r\n      <g transform=\"translate(267.597727 239.238437)scale(0.1 -0.1)\">\r\n       <defs>\r\n        <path d=\"M 12.40625 8.296875 \r\nL 28.515625 8.296875 \r\nL 28.515625 63.921875 \r\nL 10.984375 60.40625 \r\nL 10.984375 69.390625 \r\nL 28.421875 72.90625 \r\nL 38.28125 72.90625 \r\nL 38.28125 8.296875 \r\nL 54.390625 8.296875 \r\nL 54.390625 0 \r\nL 12.40625 0 \r\nz\r\n\" id=\"DejaVuSans-49\"/>\r\n       </defs>\r\n       <use xlink:href=\"#DejaVuSans-49\"/>\r\n       <use x=\"63.623047\" xlink:href=\"#DejaVuSans-48\"/>\r\n       <use x=\"127.246094\" xlink:href=\"#DejaVuSans-48\"/>\r\n       <use x=\"190.869141\" xlink:href=\"#DejaVuSans-48\"/>\r\n      </g>\r\n     </g>\r\n    </g>\r\n    <g id=\"xtick_7\">\r\n     <g id=\"line2d_13\">\r\n      <path clip-path=\"url(#pc11998a1af)\" d=\"M 325.413636 224.64 \r\nL 325.413636 7.2 \r\n\" style=\"fill:none;stroke:#b0b0b0;stroke-linecap:square;stroke-width:0.8;\"/>\r\n     </g>\r\n     <g id=\"line2d_14\">\r\n      <g>\r\n       <use style=\"stroke:#000000;stroke-width:0.8;\" x=\"325.413636\" xlink:href=\"#mfa9ea645cf\" y=\"224.64\"/>\r\n      </g>\r\n     </g>\r\n     <g id=\"text_7\">\r\n      <!-- 1200 -->\r\n      <g transform=\"translate(312.688636 239.238437)scale(0.1 -0.1)\">\r\n       <use xlink:href=\"#DejaVuSans-49\"/>\r\n       <use x=\"63.623047\" xlink:href=\"#DejaVuSans-50\"/>\r\n       <use x=\"127.246094\" xlink:href=\"#DejaVuSans-48\"/>\r\n       <use x=\"190.869141\" xlink:href=\"#DejaVuSans-48\"/>\r\n      </g>\r\n     </g>\r\n    </g>\r\n    <g id=\"xtick_8\">\r\n     <g id=\"line2d_15\">\r\n      <path clip-path=\"url(#pc11998a1af)\" d=\"M 370.504545 224.64 \r\nL 370.504545 7.2 \r\n\" style=\"fill:none;stroke:#b0b0b0;stroke-linecap:square;stroke-width:0.8;\"/>\r\n     </g>\r\n     <g id=\"line2d_16\">\r\n      <g>\r\n       <use style=\"stroke:#000000;stroke-width:0.8;\" x=\"370.504545\" xlink:href=\"#mfa9ea645cf\" y=\"224.64\"/>\r\n      </g>\r\n     </g>\r\n     <g id=\"text_8\">\r\n      <!-- 1400 -->\r\n      <g transform=\"translate(357.779545 239.238437)scale(0.1 -0.1)\">\r\n       <use xlink:href=\"#DejaVuSans-49\"/>\r\n       <use x=\"63.623047\" xlink:href=\"#DejaVuSans-52\"/>\r\n       <use x=\"127.246094\" xlink:href=\"#DejaVuSans-48\"/>\r\n       <use x=\"190.869141\" xlink:href=\"#DejaVuSans-48\"/>\r\n      </g>\r\n     </g>\r\n    </g>\r\n   </g>\r\n   <g id=\"matplotlib.axis_2\">\r\n    <g id=\"ytick_1\">\r\n     <g id=\"line2d_17\">\r\n      <path clip-path=\"url(#pc11998a1af)\" d=\"M 39.65 224.64 \r\nL 374.45 224.64 \r\n\" style=\"fill:none;stroke:#b0b0b0;stroke-linecap:square;stroke-width:0.8;\"/>\r\n     </g>\r\n     <g id=\"line2d_18\">\r\n      <defs>\r\n       <path d=\"M 0 0 \r\nL -3.5 0 \r\n\" id=\"m0a65a401c2\" style=\"stroke:#000000;stroke-width:0.8;\"/>\r\n      </defs>\r\n      <g>\r\n       <use style=\"stroke:#000000;stroke-width:0.8;\" x=\"39.65\" xlink:href=\"#m0a65a401c2\" y=\"224.64\"/>\r\n      </g>\r\n     </g>\r\n     <g id=\"text_9\">\r\n      <!-- 0 -->\r\n      <g transform=\"translate(26.2875 228.439219)scale(0.1 -0.1)\">\r\n       <use xlink:href=\"#DejaVuSans-48\"/>\r\n      </g>\r\n     </g>\r\n    </g>\r\n    <g id=\"ytick_2\">\r\n     <g id=\"line2d_19\">\r\n      <path clip-path=\"url(#pc11998a1af)\" d=\"M 39.65 181.994672 \r\nL 374.45 181.994672 \r\n\" style=\"fill:none;stroke:#b0b0b0;stroke-linecap:square;stroke-width:0.8;\"/>\r\n     </g>\r\n     <g id=\"line2d_20\">\r\n      <g>\r\n       <use style=\"stroke:#000000;stroke-width:0.8;\" x=\"39.65\" xlink:href=\"#m0a65a401c2\" y=\"181.994672\"/>\r\n      </g>\r\n     </g>\r\n     <g id=\"text_10\">\r\n      <!-- 500 -->\r\n      <g transform=\"translate(13.5625 185.79389)scale(0.1 -0.1)\">\r\n       <defs>\r\n        <path d=\"M 10.796875 72.90625 \r\nL 49.515625 72.90625 \r\nL 49.515625 64.59375 \r\nL 19.828125 64.59375 \r\nL 19.828125 46.734375 \r\nQ 21.96875 47.46875 24.109375 47.828125 \r\nQ 26.265625 48.1875 28.421875 48.1875 \r\nQ 40.625 48.1875 47.75 41.5 \r\nQ 54.890625 34.8125 54.890625 23.390625 \r\nQ 54.890625 11.625 47.5625 5.09375 \r\nQ 40.234375 -1.421875 26.90625 -1.421875 \r\nQ 22.3125 -1.421875 17.546875 -0.640625 \r\nQ 12.796875 0.140625 7.71875 1.703125 \r\nL 7.71875 11.625 \r\nQ 12.109375 9.234375 16.796875 8.0625 \r\nQ 21.484375 6.890625 26.703125 6.890625 \r\nQ 35.15625 6.890625 40.078125 11.328125 \r\nQ 45.015625 15.765625 45.015625 23.390625 \r\nQ 45.015625 31 40.078125 35.4375 \r\nQ 35.15625 39.890625 26.703125 39.890625 \r\nQ 22.75 39.890625 18.8125 39.015625 \r\nQ 14.890625 38.140625 10.796875 36.28125 \r\nz\r\n\" id=\"DejaVuSans-53\"/>\r\n       </defs>\r\n       <use xlink:href=\"#DejaVuSans-53\"/>\r\n       <use x=\"63.623047\" xlink:href=\"#DejaVuSans-48\"/>\r\n       <use x=\"127.246094\" xlink:href=\"#DejaVuSans-48\"/>\r\n      </g>\r\n     </g>\r\n    </g>\r\n    <g id=\"ytick_3\">\r\n     <g id=\"line2d_21\">\r\n      <path clip-path=\"url(#pc11998a1af)\" d=\"M 39.65 139.349343 \r\nL 374.45 139.349343 \r\n\" style=\"fill:none;stroke:#b0b0b0;stroke-linecap:square;stroke-width:0.8;\"/>\r\n     </g>\r\n     <g id=\"line2d_22\">\r\n      <g>\r\n       <use style=\"stroke:#000000;stroke-width:0.8;\" x=\"39.65\" xlink:href=\"#m0a65a401c2\" y=\"139.349343\"/>\r\n      </g>\r\n     </g>\r\n     <g id=\"text_11\">\r\n      <!-- 1000 -->\r\n      <g transform=\"translate(7.2 143.148562)scale(0.1 -0.1)\">\r\n       <use xlink:href=\"#DejaVuSans-49\"/>\r\n       <use x=\"63.623047\" xlink:href=\"#DejaVuSans-48\"/>\r\n       <use x=\"127.246094\" xlink:href=\"#DejaVuSans-48\"/>\r\n       <use x=\"190.869141\" xlink:href=\"#DejaVuSans-48\"/>\r\n      </g>\r\n     </g>\r\n    </g>\r\n    <g id=\"ytick_4\">\r\n     <g id=\"line2d_23\">\r\n      <path clip-path=\"url(#pc11998a1af)\" d=\"M 39.65 96.704015 \r\nL 374.45 96.704015 \r\n\" style=\"fill:none;stroke:#b0b0b0;stroke-linecap:square;stroke-width:0.8;\"/>\r\n     </g>\r\n     <g id=\"line2d_24\">\r\n      <g>\r\n       <use style=\"stroke:#000000;stroke-width:0.8;\" x=\"39.65\" xlink:href=\"#m0a65a401c2\" y=\"96.704015\"/>\r\n      </g>\r\n     </g>\r\n     <g id=\"text_12\">\r\n      <!-- 1500 -->\r\n      <g transform=\"translate(7.2 100.503234)scale(0.1 -0.1)\">\r\n       <use xlink:href=\"#DejaVuSans-49\"/>\r\n       <use x=\"63.623047\" xlink:href=\"#DejaVuSans-53\"/>\r\n       <use x=\"127.246094\" xlink:href=\"#DejaVuSans-48\"/>\r\n       <use x=\"190.869141\" xlink:href=\"#DejaVuSans-48\"/>\r\n      </g>\r\n     </g>\r\n    </g>\r\n    <g id=\"ytick_5\">\r\n     <g id=\"line2d_25\">\r\n      <path clip-path=\"url(#pc11998a1af)\" d=\"M 39.65 54.058687 \r\nL 374.45 54.058687 \r\n\" style=\"fill:none;stroke:#b0b0b0;stroke-linecap:square;stroke-width:0.8;\"/>\r\n     </g>\r\n     <g id=\"line2d_26\">\r\n      <g>\r\n       <use style=\"stroke:#000000;stroke-width:0.8;\" x=\"39.65\" xlink:href=\"#m0a65a401c2\" y=\"54.058687\"/>\r\n      </g>\r\n     </g>\r\n     <g id=\"text_13\">\r\n      <!-- 2000 -->\r\n      <g transform=\"translate(7.2 57.857905)scale(0.1 -0.1)\">\r\n       <use xlink:href=\"#DejaVuSans-50\"/>\r\n       <use x=\"63.623047\" xlink:href=\"#DejaVuSans-48\"/>\r\n       <use x=\"127.246094\" xlink:href=\"#DejaVuSans-48\"/>\r\n       <use x=\"190.869141\" xlink:href=\"#DejaVuSans-48\"/>\r\n      </g>\r\n     </g>\r\n    </g>\r\n    <g id=\"ytick_6\">\r\n     <g id=\"line2d_27\">\r\n      <path clip-path=\"url(#pc11998a1af)\" d=\"M 39.65 11.413358 \r\nL 374.45 11.413358 \r\n\" style=\"fill:none;stroke:#b0b0b0;stroke-linecap:square;stroke-width:0.8;\"/>\r\n     </g>\r\n     <g id=\"line2d_28\">\r\n      <g>\r\n       <use style=\"stroke:#000000;stroke-width:0.8;\" x=\"39.65\" xlink:href=\"#m0a65a401c2\" y=\"11.413358\"/>\r\n      </g>\r\n     </g>\r\n     <g id=\"text_14\">\r\n      <!-- 2500 -->\r\n      <g transform=\"translate(7.2 15.212577)scale(0.1 -0.1)\">\r\n       <use xlink:href=\"#DejaVuSans-50\"/>\r\n       <use x=\"63.623047\" xlink:href=\"#DejaVuSans-53\"/>\r\n       <use x=\"127.246094\" xlink:href=\"#DejaVuSans-48\"/>\r\n       <use x=\"190.869141\" xlink:href=\"#DejaVuSans-48\"/>\r\n      </g>\r\n     </g>\r\n    </g>\r\n   </g>\r\n   <g id=\"patch_13\">\r\n    <path d=\"M 39.65 224.64 \r\nL 39.65 7.2 \r\n\" style=\"fill:none;stroke:#000000;stroke-linecap:square;stroke-linejoin:miter;stroke-width:0.8;\"/>\r\n   </g>\r\n   <g id=\"patch_14\">\r\n    <path d=\"M 374.45 224.64 \r\nL 374.45 7.2 \r\n\" style=\"fill:none;stroke:#000000;stroke-linecap:square;stroke-linejoin:miter;stroke-width:0.8;\"/>\r\n   </g>\r\n   <g id=\"patch_15\">\r\n    <path d=\"M 39.65 224.64 \r\nL 374.45 224.64 \r\n\" style=\"fill:none;stroke:#000000;stroke-linecap:square;stroke-linejoin:miter;stroke-width:0.8;\"/>\r\n   </g>\r\n   <g id=\"patch_16\">\r\n    <path d=\"M 39.65 7.2 \r\nL 374.45 7.2 \r\n\" style=\"fill:none;stroke:#000000;stroke-linecap:square;stroke-linejoin:miter;stroke-width:0.8;\"/>\r\n   </g>\r\n  </g>\r\n </g>\r\n <defs>\r\n  <clipPath id=\"pc11998a1af\">\r\n   <rect height=\"217.44\" width=\"334.8\" x=\"39.65\" y=\"7.2\"/>\r\n  </clipPath>\r\n </defs>\r\n</svg>\r\n",
      "image/png": "[encoded data removed]"
     },
     "metadata": {
      "needs_background": "light"
     }
    }
   ],
   "source": [
    "orders[orders['Country'] == 'Spain']['amount_spent'].hist()"
   ]
  },
  {
   "cell_type": "markdown",
   "metadata": {},
   "source": [
    "#### Select all orders made in the month of August."
   ]
  },
  {
   "cell_type": "code",
   "execution_count": 297,
   "metadata": {},
   "outputs": [
    {
     "output_type": "execute_result",
     "data": {
      "text/plain": "        Unnamed: 0  InvoiceNo StockCode  year  month  day  hour  \\\n199475      285421     561904     22075  2011      8    1     8   \n199476      285422     561904    85049E  2011      8    1     8   \n199477      285423     561905     21385  2011      8    1     9   \n199478      285424     561905    84970L  2011      8    1     9   \n199479      285425     561905    84970S  2011      8    1     9   \n...            ...        ...       ...   ...    ...  ...   ...   \n226483      320688     565067     22644  2011      8    3    17   \n226484      320689     565067     22645  2011      8    3    17   \n226485      320690     565067     22637  2011      8    3    17   \n226486      320691     565067     22646  2011      8    3    17   \n226487      320692     565067     22741  2011      8    3    17   \n\n                                Description  Quantity          InvoiceDate  \\\n199475         6 ribbons elegant christmas         96  2011-08-01 08:30:00   \n199476            scandinavian reds ribbons       156  2011-08-01 08:30:00   \n199477      ivory hanging decoration  heart        24  2011-08-01 09:31:00   \n199478     single heart zinc t-light holder        12  2011-08-01 09:31:00   \n199479    hanging heart zinc t-light holder        12  2011-08-01 09:31:00   \n...                                     ...       ...                  ...   \n226483       ceramic cherry cake money bank         2  2011-08-31 17:16:00   \n226484  ceramic heart fairy cake money bank         2  2011-08-31 17:16:00   \n226485                piggy bank retrospot          2  2011-08-31 17:16:00   \n226486   ceramic strawberry cake money bank         2  2011-08-31 17:16:00   \n226487                       funky diva pen        48  2011-08-31 17:16:00   \n\n        UnitPrice  CustomerID         Country  amount_spent  \n199475       1.45       17941  United Kingdom        139.20  \n199476       1.06       17941  United Kingdom        165.36  \n199477       0.85       14947  United Kingdom         20.40  \n199478       0.95       14947  United Kingdom         11.40  \n199479       0.85       14947  United Kingdom         10.20  \n...           ...         ...             ...           ...  \n226483       1.45       15856  United Kingdom          2.90  \n226484       1.45       15856  United Kingdom          2.90  \n226485       2.55       15856  United Kingdom          5.10  \n226486       1.45       15856  United Kingdom          2.90  \n226487       0.85       15856  United Kingdom         40.80  \n\n[27013 rows x 14 columns]",
      "text/html": "<div>\n<style scoped>\n    .dataframe tbody tr th:only-of-type {\n        vertical-align: middle;\n    }\n\n    .dataframe tbody tr th {\n        vertical-align: top;\n    }\n\n    .dataframe thead th {\n        text-align: right;\n    }\n</style>\n<table border=\"1\" class=\"dataframe\">\n  <thead>\n    <tr style=\"text-align: right;\">\n      <th></th>\n      <th>Unnamed: 0</th>\n      <th>InvoiceNo</th>\n      <th>StockCode</th>\n      <th>year</th>\n      <th>month</th>\n      <th>day</th>\n      <th>hour</th>\n      <th>Description</th>\n      <th>Quantity</th>\n      <th>InvoiceDate</th>\n      <th>UnitPrice</th>\n      <th>CustomerID</th>\n      <th>Country</th>\n      <th>amount_spent</th>\n    </tr>\n  </thead>\n  <tbody>\n    <tr>\n      <th>199475</th>\n      <td>285421</td>\n      <td>561904</td>\n      <td>22075</td>\n      <td>2011</td>\n      <td>8</td>\n      <td>1</td>\n      <td>8</td>\n      <td>6 ribbons elegant christmas</td>\n      <td>96</td>\n      <td>2011-08-01 08:30:00</td>\n      <td>1.45</td>\n      <td>17941</td>\n      <td>United Kingdom</td>\n      <td>139.20</td>\n    </tr>\n    <tr>\n      <th>199476</th>\n      <td>285422</td>\n      <td>561904</td>\n      <td>85049E</td>\n      <td>2011</td>\n      <td>8</td>\n      <td>1</td>\n      <td>8</td>\n      <td>scandinavian reds ribbons</td>\n      <td>156</td>\n      <td>2011-08-01 08:30:00</td>\n      <td>1.06</td>\n      <td>17941</td>\n      <td>United Kingdom</td>\n      <td>165.36</td>\n    </tr>\n    <tr>\n      <th>199477</th>\n      <td>285423</td>\n      <td>561905</td>\n      <td>21385</td>\n      <td>2011</td>\n      <td>8</td>\n      <td>1</td>\n      <td>9</td>\n      <td>ivory hanging decoration  heart</td>\n      <td>24</td>\n      <td>2011-08-01 09:31:00</td>\n      <td>0.85</td>\n      <td>14947</td>\n      <td>United Kingdom</td>\n      <td>20.40</td>\n    </tr>\n    <tr>\n      <th>199478</th>\n      <td>285424</td>\n      <td>561905</td>\n      <td>84970L</td>\n      <td>2011</td>\n      <td>8</td>\n      <td>1</td>\n      <td>9</td>\n      <td>single heart zinc t-light holder</td>\n      <td>12</td>\n      <td>2011-08-01 09:31:00</td>\n      <td>0.95</td>\n      <td>14947</td>\n      <td>United Kingdom</td>\n      <td>11.40</td>\n    </tr>\n    <tr>\n      <th>199479</th>\n      <td>285425</td>\n      <td>561905</td>\n      <td>84970S</td>\n      <td>2011</td>\n      <td>8</td>\n      <td>1</td>\n      <td>9</td>\n      <td>hanging heart zinc t-light holder</td>\n      <td>12</td>\n      <td>2011-08-01 09:31:00</td>\n      <td>0.85</td>\n      <td>14947</td>\n      <td>United Kingdom</td>\n      <td>10.20</td>\n    </tr>\n    <tr>\n      <th>...</th>\n      <td>...</td>\n      <td>...</td>\n      <td>...</td>\n      <td>...</td>\n      <td>...</td>\n      <td>...</td>\n      <td>...</td>\n      <td>...</td>\n      <td>...</td>\n      <td>...</td>\n      <td>...</td>\n      <td>...</td>\n      <td>...</td>\n      <td>...</td>\n    </tr>\n    <tr>\n      <th>226483</th>\n      <td>320688</td>\n      <td>565067</td>\n      <td>22644</td>\n      <td>2011</td>\n      <td>8</td>\n      <td>3</td>\n      <td>17</td>\n      <td>ceramic cherry cake money bank</td>\n      <td>2</td>\n      <td>2011-08-31 17:16:00</td>\n      <td>1.45</td>\n      <td>15856</td>\n      <td>United Kingdom</td>\n      <td>2.90</td>\n    </tr>\n    <tr>\n      <th>226484</th>\n      <td>320689</td>\n      <td>565067</td>\n      <td>22645</td>\n      <td>2011</td>\n      <td>8</td>\n      <td>3</td>\n      <td>17</td>\n      <td>ceramic heart fairy cake money bank</td>\n      <td>2</td>\n      <td>2011-08-31 17:16:00</td>\n      <td>1.45</td>\n      <td>15856</td>\n      <td>United Kingdom</td>\n      <td>2.90</td>\n    </tr>\n    <tr>\n      <th>226485</th>\n      <td>320690</td>\n      <td>565067</td>\n      <td>22637</td>\n      <td>2011</td>\n      <td>8</td>\n      <td>3</td>\n      <td>17</td>\n      <td>piggy bank retrospot</td>\n      <td>2</td>\n      <td>2011-08-31 17:16:00</td>\n      <td>2.55</td>\n      <td>15856</td>\n      <td>United Kingdom</td>\n      <td>5.10</td>\n    </tr>\n    <tr>\n      <th>226486</th>\n      <td>320691</td>\n      <td>565067</td>\n      <td>22646</td>\n      <td>2011</td>\n      <td>8</td>\n      <td>3</td>\n      <td>17</td>\n      <td>ceramic strawberry cake money bank</td>\n      <td>2</td>\n      <td>2011-08-31 17:16:00</td>\n      <td>1.45</td>\n      <td>15856</td>\n      <td>United Kingdom</td>\n      <td>2.90</td>\n    </tr>\n    <tr>\n      <th>226487</th>\n      <td>320692</td>\n      <td>565067</td>\n      <td>22741</td>\n      <td>2011</td>\n      <td>8</td>\n      <td>3</td>\n      <td>17</td>\n      <td>funky diva pen</td>\n      <td>48</td>\n      <td>2011-08-31 17:16:00</td>\n      <td>0.85</td>\n      <td>15856</td>\n      <td>United Kingdom</td>\n      <td>40.80</td>\n    </tr>\n  </tbody>\n</table>\n<p>27013 rows × 14 columns</p>\n</div>"
     },
     "metadata": {},
     "execution_count": 297
    }
   ],
   "source": [
    "orders[orders['month'] == 8]"
   ]
  },
  {
   "cell_type": "markdown",
   "metadata": {},
   "source": [
    "#### Find the number of orders made by each country in the month of August.\n",
    "**Hint**: Use value_counts()."
   ]
  },
  {
   "cell_type": "code",
   "execution_count": 298,
   "metadata": {},
   "outputs": [
    {
     "output_type": "execute_result",
     "data": {
      "text/plain": "                      Number of orders\nCountry                               \nAustralia                         1185\nAustria                            398\nBahrain                             17\nBelgium                           2031\nBrazil                              32\nCanada                             151\nChannel Islands                    748\nCyprus                             614\nCzech Republic                      25\nDenmark                            380\nEIRE                              7238\nEuropean Community                  60\nFinland                            685\nFrance                            8342\nGermany                           9042\nGreece                             145\nIceland                            182\nIsrael                             248\nItaly                              758\nJapan                              321\nLebanon                             45\nLithuania                           35\nMalta                              112\nNetherlands                       2363\nNorway                            1072\nPoland                             330\nPortugal                          1462\nRSA                                 58\nSaudi Arabia                         9\nSingapore                          222\nSpain                             2485\nSweden                             451\nSwitzerland                       1842\nUSA                                179\nUnited Arab Emirates                68\nUnited Kingdom                  354345\nUnspecified                        244",
      "text/html": "<div>\n<style scoped>\n    .dataframe tbody tr th:only-of-type {\n        vertical-align: middle;\n    }\n\n    .dataframe tbody tr th {\n        vertical-align: top;\n    }\n\n    .dataframe thead th {\n        text-align: right;\n    }\n</style>\n<table border=\"1\" class=\"dataframe\">\n  <thead>\n    <tr style=\"text-align: right;\">\n      <th></th>\n      <th>Number of orders</th>\n    </tr>\n    <tr>\n      <th>Country</th>\n      <th></th>\n    </tr>\n  </thead>\n  <tbody>\n    <tr>\n      <th>Australia</th>\n      <td>1185</td>\n    </tr>\n    <tr>\n      <th>Austria</th>\n      <td>398</td>\n    </tr>\n    <tr>\n      <th>Bahrain</th>\n      <td>17</td>\n    </tr>\n    <tr>\n      <th>Belgium</th>\n      <td>2031</td>\n    </tr>\n    <tr>\n      <th>Brazil</th>\n      <td>32</td>\n    </tr>\n    <tr>\n      <th>Canada</th>\n      <td>151</td>\n    </tr>\n    <tr>\n      <th>Channel Islands</th>\n      <td>748</td>\n    </tr>\n    <tr>\n      <th>Cyprus</th>\n      <td>614</td>\n    </tr>\n    <tr>\n      <th>Czech Republic</th>\n      <td>25</td>\n    </tr>\n    <tr>\n      <th>Denmark</th>\n      <td>380</td>\n    </tr>\n    <tr>\n      <th>EIRE</th>\n      <td>7238</td>\n    </tr>\n    <tr>\n      <th>European Community</th>\n      <td>60</td>\n    </tr>\n    <tr>\n      <th>Finland</th>\n      <td>685</td>\n    </tr>\n    <tr>\n      <th>France</th>\n      <td>8342</td>\n    </tr>\n    <tr>\n      <th>Germany</th>\n      <td>9042</td>\n    </tr>\n    <tr>\n      <th>Greece</th>\n      <td>145</td>\n    </tr>\n    <tr>\n      <th>Iceland</th>\n      <td>182</td>\n    </tr>\n    <tr>\n      <th>Israel</th>\n      <td>248</td>\n    </tr>\n    <tr>\n      <th>Italy</th>\n      <td>758</td>\n    </tr>\n    <tr>\n      <th>Japan</th>\n      <td>321</td>\n    </tr>\n    <tr>\n      <th>Lebanon</th>\n      <td>45</td>\n    </tr>\n    <tr>\n      <th>Lithuania</th>\n      <td>35</td>\n    </tr>\n    <tr>\n      <th>Malta</th>\n      <td>112</td>\n    </tr>\n    <tr>\n      <th>Netherlands</th>\n      <td>2363</td>\n    </tr>\n    <tr>\n      <th>Norway</th>\n      <td>1072</td>\n    </tr>\n    <tr>\n      <th>Poland</th>\n      <td>330</td>\n    </tr>\n    <tr>\n      <th>Portugal</th>\n      <td>1462</td>\n    </tr>\n    <tr>\n      <th>RSA</th>\n      <td>58</td>\n    </tr>\n    <tr>\n      <th>Saudi Arabia</th>\n      <td>9</td>\n    </tr>\n    <tr>\n      <th>Singapore</th>\n      <td>222</td>\n    </tr>\n    <tr>\n      <th>Spain</th>\n      <td>2485</td>\n    </tr>\n    <tr>\n      <th>Sweden</th>\n      <td>451</td>\n    </tr>\n    <tr>\n      <th>Switzerland</th>\n      <td>1842</td>\n    </tr>\n    <tr>\n      <th>USA</th>\n      <td>179</td>\n    </tr>\n    <tr>\n      <th>United Arab Emirates</th>\n      <td>68</td>\n    </tr>\n    <tr>\n      <th>United Kingdom</th>\n      <td>354345</td>\n    </tr>\n    <tr>\n      <th>Unspecified</th>\n      <td>244</td>\n    </tr>\n  </tbody>\n</table>\n</div>"
     },
     "metadata": {},
     "execution_count": 298
    }
   ],
   "source": [
    "orders_by_country = orders.pivot_table(index='Country', values='InvoiceNo', aggfunc='count')\n",
    "orders_by_country.columns = ['Number of orders']\n",
    "orders_by_country"
   ]
  },
  {
   "cell_type": "markdown",
   "metadata": {},
   "source": [
    "#### What's the  average amount of money spent by country?"
   ]
  },
  {
   "cell_type": "code",
   "execution_count": 299,
   "metadata": {},
   "outputs": [
    {
     "output_type": "execute_result",
     "data": {
      "text/plain": "                      amount_spent\nCountry                           \nAustralia               116.895620\nAustria                  25.624824\nBahrain                  32.258824\nBelgium                  20.283772\nBrazil                   35.737500\nCanada                   24.280662\nChannel Islands          27.340160\nCyprus                   22.134169\nCzech Republic           33.069600\nDenmark                  49.882474\nEIRE                     36.687745\nEuropean Community       21.670833\nFinland                  32.913985\nFrance                   25.056827\nGermany                  25.311562\nGreece                   32.831172\nIceland                  23.681319\nIsrael                   29.119718\nItaly                    23.064960\nJapan                   116.561900\nLebanon                  37.641778\nLithuania                47.458857\nMalta                    24.335625\nNetherlands             120.798282\nNorway                   33.736418\nPoland                   22.226212\nPortugal                 22.872702\nRSA                      17.281207\nSaudi Arabia             16.213333\nSingapore                95.852658\nSpain                    24.779521\nSweden                   85.096075\nSwitzerland              30.642752\nUSA                      20.002179\nUnited Arab Emirates     27.974706\nUnited Kingdom           20.625073\nUnspecified              10.930615",
      "text/html": "<div>\n<style scoped>\n    .dataframe tbody tr th:only-of-type {\n        vertical-align: middle;\n    }\n\n    .dataframe tbody tr th {\n        vertical-align: top;\n    }\n\n    .dataframe thead th {\n        text-align: right;\n    }\n</style>\n<table border=\"1\" class=\"dataframe\">\n  <thead>\n    <tr style=\"text-align: right;\">\n      <th></th>\n      <th>amount_spent</th>\n    </tr>\n    <tr>\n      <th>Country</th>\n      <th></th>\n    </tr>\n  </thead>\n  <tbody>\n    <tr>\n      <th>Australia</th>\n      <td>116.895620</td>\n    </tr>\n    <tr>\n      <th>Austria</th>\n      <td>25.624824</td>\n    </tr>\n    <tr>\n      <th>Bahrain</th>\n      <td>32.258824</td>\n    </tr>\n    <tr>\n      <th>Belgium</th>\n      <td>20.283772</td>\n    </tr>\n    <tr>\n      <th>Brazil</th>\n      <td>35.737500</td>\n    </tr>\n    <tr>\n      <th>Canada</th>\n      <td>24.280662</td>\n    </tr>\n    <tr>\n      <th>Channel Islands</th>\n      <td>27.340160</td>\n    </tr>\n    <tr>\n      <th>Cyprus</th>\n      <td>22.134169</td>\n    </tr>\n    <tr>\n      <th>Czech Republic</th>\n      <td>33.069600</td>\n    </tr>\n    <tr>\n      <th>Denmark</th>\n      <td>49.882474</td>\n    </tr>\n    <tr>\n      <th>EIRE</th>\n      <td>36.687745</td>\n    </tr>\n    <tr>\n      <th>European Community</th>\n      <td>21.670833</td>\n    </tr>\n    <tr>\n      <th>Finland</th>\n      <td>32.913985</td>\n    </tr>\n    <tr>\n      <th>France</th>\n      <td>25.056827</td>\n    </tr>\n    <tr>\n      <th>Germany</th>\n      <td>25.311562</td>\n    </tr>\n    <tr>\n      <th>Greece</th>\n      <td>32.831172</td>\n    </tr>\n    <tr>\n      <th>Iceland</th>\n      <td>23.681319</td>\n    </tr>\n    <tr>\n      <th>Israel</th>\n      <td>29.119718</td>\n    </tr>\n    <tr>\n      <th>Italy</th>\n      <td>23.064960</td>\n    </tr>\n    <tr>\n      <th>Japan</th>\n      <td>116.561900</td>\n    </tr>\n    <tr>\n      <th>Lebanon</th>\n      <td>37.641778</td>\n    </tr>\n    <tr>\n      <th>Lithuania</th>\n      <td>47.458857</td>\n    </tr>\n    <tr>\n      <th>Malta</th>\n      <td>24.335625</td>\n    </tr>\n    <tr>\n      <th>Netherlands</th>\n      <td>120.798282</td>\n    </tr>\n    <tr>\n      <th>Norway</th>\n      <td>33.736418</td>\n    </tr>\n    <tr>\n      <th>Poland</th>\n      <td>22.226212</td>\n    </tr>\n    <tr>\n      <th>Portugal</th>\n      <td>22.872702</td>\n    </tr>\n    <tr>\n      <th>RSA</th>\n      <td>17.281207</td>\n    </tr>\n    <tr>\n      <th>Saudi Arabia</th>\n      <td>16.213333</td>\n    </tr>\n    <tr>\n      <th>Singapore</th>\n      <td>95.852658</td>\n    </tr>\n    <tr>\n      <th>Spain</th>\n      <td>24.779521</td>\n    </tr>\n    <tr>\n      <th>Sweden</th>\n      <td>85.096075</td>\n    </tr>\n    <tr>\n      <th>Switzerland</th>\n      <td>30.642752</td>\n    </tr>\n    <tr>\n      <th>USA</th>\n      <td>20.002179</td>\n    </tr>\n    <tr>\n      <th>United Arab Emirates</th>\n      <td>27.974706</td>\n    </tr>\n    <tr>\n      <th>United Kingdom</th>\n      <td>20.625073</td>\n    </tr>\n    <tr>\n      <th>Unspecified</th>\n      <td>10.930615</td>\n    </tr>\n  </tbody>\n</table>\n</div>"
     },
     "metadata": {},
     "execution_count": 299
    }
   ],
   "source": [
    "orders.pivot_table(index='Country', values='amount_spent', aggfunc='mean')"
   ]
  },
  {
   "cell_type": "markdown",
   "metadata": {},
   "source": [
    "#### What's the most expensive item?"
   ]
  },
  {
   "cell_type": "code",
   "execution_count": 300,
   "metadata": {},
   "outputs": [
    {
     "output_type": "execute_result",
     "data": {
      "text/plain": "        Unnamed: 0  InvoiceNo StockCode  year  month  day  hour Description  \\\n118352      173382     551697      POST  2011      5    2    13     postage   \n\n        Quantity          InvoiceDate  UnitPrice  CustomerID         Country  \\\n118352         1  2011-05-03 13:46:00    8142.75       16029  United Kingdom   \n\n        amount_spent  \n118352       8142.75  ",
      "text/html": "<div>\n<style scoped>\n    .dataframe tbody tr th:only-of-type {\n        vertical-align: middle;\n    }\n\n    .dataframe tbody tr th {\n        vertical-align: top;\n    }\n\n    .dataframe thead th {\n        text-align: right;\n    }\n</style>\n<table border=\"1\" class=\"dataframe\">\n  <thead>\n    <tr style=\"text-align: right;\">\n      <th></th>\n      <th>Unnamed: 0</th>\n      <th>InvoiceNo</th>\n      <th>StockCode</th>\n      <th>year</th>\n      <th>month</th>\n      <th>day</th>\n      <th>hour</th>\n      <th>Description</th>\n      <th>Quantity</th>\n      <th>InvoiceDate</th>\n      <th>UnitPrice</th>\n      <th>CustomerID</th>\n      <th>Country</th>\n      <th>amount_spent</th>\n    </tr>\n  </thead>\n  <tbody>\n    <tr>\n      <th>118352</th>\n      <td>173382</td>\n      <td>551697</td>\n      <td>POST</td>\n      <td>2011</td>\n      <td>5</td>\n      <td>2</td>\n      <td>13</td>\n      <td>postage</td>\n      <td>1</td>\n      <td>2011-05-03 13:46:00</td>\n      <td>8142.75</td>\n      <td>16029</td>\n      <td>United Kingdom</td>\n      <td>8142.75</td>\n    </tr>\n  </tbody>\n</table>\n</div>"
     },
     "metadata": {},
     "execution_count": 300
    }
   ],
   "source": [
    "orders[orders['UnitPrice'] == orders['UnitPrice'].max()]"
   ]
  },
  {
   "cell_type": "markdown",
   "metadata": {},
   "source": [
    "#### What is the average amount spent per year?"
   ]
  },
  {
   "cell_type": "code",
   "execution_count": 301,
   "metadata": {},
   "outputs": [
    {
     "output_type": "execute_result",
     "data": {
      "text/plain": "year\n2010    21.892733\n2011    22.430074\nName: amount_spent, dtype: float64"
     },
     "metadata": {},
     "execution_count": 301
    }
   ],
   "source": [
    "orders.groupby(by='year')['amount_spent'].mean()"
   ]
  },
  {
   "cell_type": "code",
   "execution_count": null,
   "metadata": {},
   "outputs": [],
   "source": []
  }
 ],
 "metadata": {
  "anaconda-cloud": {},
  "kernelspec": {
   "display_name": "Python 3.8.2 32-bit",
   "language": "python",
   "name": "python_defaultSpec_1595360202550"
  },
  "language_info": {
   "codemirror_mode": {
    "name": "ipython",
    "version": 3
   },
   "file_extension": ".py",
   "mimetype": "text/x-python",
   "name": "python",
   "nbconvert_exporter": "python",
   "pygments_lexer": "ipython3",
   "version": "3.7.2"
  }
 },
 "nbformat": 4,
 "nbformat_minor": 1
}